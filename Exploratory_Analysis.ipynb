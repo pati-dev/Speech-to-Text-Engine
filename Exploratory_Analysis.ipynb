{
  "nbformat": 4,
  "nbformat_minor": 0,
  "metadata": {
    "colab": {
      "name": "Exploratory Analysis.ipynb",
      "provenance": [],
      "collapsed_sections": [
        "FU4ktuplRnk7",
        "IBgaYP-hR4-0",
        "Zu149tQ0ScIY"
      ],
      "include_colab_link": true
    },
    "kernelspec": {
      "name": "python3",
      "display_name": "Python 3"
    }
  },
  "cells": [
    {
      "cell_type": "markdown",
      "metadata": {
        "id": "view-in-github",
        "colab_type": "text"
      },
      "source": [
        "<a href=\"https://colab.research.google.com/github/pati-dev/common-voice/blob/master/Exploratory_Analysis.ipynb\" target=\"_parent\"><img src=\"https://colab.research.google.com/assets/colab-badge.svg\" alt=\"Open In Colab\"/></a>"
      ]
    },
    {
      "cell_type": "markdown",
      "metadata": {
        "id": "x53eCgMe8gRg",
        "colab_type": "text"
      },
      "source": [
        "# Insights"
      ]
    },
    {
      "cell_type": "markdown",
      "metadata": {
        "id": "6Gum-N5186uV",
        "colab_type": "text"
      },
      "source": [
        "* **Train**, **Test**, and **Validated** *tsv* files have around $63K$, $13K$, and $644K$ sentences/clips respectively with $1.5K$, $8K$, and $32K$ unique speakers\n",
        "* Most of the data in **Test** has missing values for *age*, *gender*, and *accent* attributes\n",
        "* Cross-tabs on *gender* and *accent* get too thin for most combinations on **Train** data; only $2$ or $3$ accents have more than $1000$ samples\n",
        "* **Validated** data seems promising with the following accents having at least $1000$ samples for each combination of *gender* and *accent*\n",
        "\n",
        "  * *australia*\n",
        "  * *canada*\n",
        "  * *england*\n",
        "  * *indian*\n",
        "  * *scotland*\n",
        "  * *usa*\n",
        "* Most of the sound clips have about $2$ upvotes across all datasets"
      ]
    },
    {
      "cell_type": "markdown",
      "metadata": {
        "id": "RgsIWCTm8v6z",
        "colab_type": "text"
      },
      "source": [
        "# Code"
      ]
    },
    {
      "cell_type": "markdown",
      "metadata": {
        "id": "WmUtlqa68zLy",
        "colab_type": "text"
      },
      "source": [
        "## Boot"
      ]
    },
    {
      "cell_type": "code",
      "metadata": {
        "id": "m6MWRm_yNrR-",
        "colab_type": "code",
        "colab": {}
      },
      "source": [
        "#data analysis and wrangling\n",
        "import pandas as pd\n",
        "import numpy as np\n",
        "\n",
        "#data visualization\n",
        "import seaborn as sns\n",
        "import matplotlib.pyplot as plt"
      ],
      "execution_count": 0,
      "outputs": []
    },
    {
      "cell_type": "code",
      "metadata": {
        "id": "ghZO1WykOg-h",
        "colab_type": "code",
        "colab": {
          "base_uri": "https://localhost:8080/",
          "height": 122
        },
        "outputId": "7291a7f0-b783-43b9-e743-596ee2b4e1f5"
      },
      "source": [
        "from google.colab import drive\n",
        "drive.mount('/content/drive')"
      ],
      "execution_count": 2,
      "outputs": [
        {
          "output_type": "stream",
          "text": [
            "Go to this URL in a browser: https://accounts.google.com/o/oauth2/auth?client_id=947318989803-6bn6qk8qdgf4n4g3pfee6491hc0brc4i.apps.googleusercontent.com&redirect_uri=urn%3aietf%3awg%3aoauth%3a2.0%3aoob&response_type=code&scope=email%20https%3a%2f%2fwww.googleapis.com%2fauth%2fdocs.test%20https%3a%2f%2fwww.googleapis.com%2fauth%2fdrive%20https%3a%2f%2fwww.googleapis.com%2fauth%2fdrive.photos.readonly%20https%3a%2f%2fwww.googleapis.com%2fauth%2fpeopleapi.readonly\n",
            "\n",
            "Enter your authorization code:\n",
            "··········\n",
            "Mounted at /content/drive\n"
          ],
          "name": "stdout"
        }
      ]
    },
    {
      "cell_type": "code",
      "metadata": {
        "id": "k5HiorYNOjzT",
        "colab_type": "code",
        "colab": {}
      },
      "source": [
        "loc = '/content/drive/My Drive/Common Voice Data/en/'"
      ],
      "execution_count": 0,
      "outputs": []
    },
    {
      "cell_type": "markdown",
      "metadata": {
        "id": "DwfEgKjqpyGL",
        "colab_type": "text"
      },
      "source": [
        "## EDA on original data"
      ]
    },
    {
      "cell_type": "markdown",
      "metadata": {
        "id": "FU4ktuplRnk7",
        "colab_type": "text"
      },
      "source": [
        "### Train data"
      ]
    },
    {
      "cell_type": "code",
      "metadata": {
        "id": "uy8kih58O0Ui",
        "colab_type": "code",
        "colab": {}
      },
      "source": [
        "trainDF = pd.read_csv(loc + 'train.tsv', sep='\\t')"
      ],
      "execution_count": 0,
      "outputs": []
    },
    {
      "cell_type": "code",
      "metadata": {
        "id": "cRlCX5QlQPO-",
        "colab_type": "code",
        "colab": {
          "base_uri": "https://localhost:8080/",
          "height": 255
        },
        "outputId": "89bff1f2-686f-44d4-885c-4c941e3fcc6b"
      },
      "source": [
        "trainDF.head(5)"
      ],
      "execution_count": 7,
      "outputs": [
        {
          "output_type": "execute_result",
          "data": {
            "text/html": [
              "<div>\n",
              "<style scoped>\n",
              "    .dataframe tbody tr th:only-of-type {\n",
              "        vertical-align: middle;\n",
              "    }\n",
              "\n",
              "    .dataframe tbody tr th {\n",
              "        vertical-align: top;\n",
              "    }\n",
              "\n",
              "    .dataframe thead th {\n",
              "        text-align: right;\n",
              "    }\n",
              "</style>\n",
              "<table border=\"1\" class=\"dataframe\">\n",
              "  <thead>\n",
              "    <tr style=\"text-align: right;\">\n",
              "      <th></th>\n",
              "      <th>client_id</th>\n",
              "      <th>path</th>\n",
              "      <th>sentence</th>\n",
              "      <th>up_votes</th>\n",
              "      <th>down_votes</th>\n",
              "      <th>age</th>\n",
              "      <th>gender</th>\n",
              "      <th>accent</th>\n",
              "    </tr>\n",
              "  </thead>\n",
              "  <tbody>\n",
              "    <tr>\n",
              "      <th>0</th>\n",
              "      <td>9d16c5d980247861130e0480e2719f448be73d86a496c3...</td>\n",
              "      <td>common_voice_en_18885784.mp3</td>\n",
              "      <td>He was accorded a State funeral, and was burie...</td>\n",
              "      <td>2</td>\n",
              "      <td>0</td>\n",
              "      <td>NaN</td>\n",
              "      <td>NaN</td>\n",
              "      <td>NaN</td>\n",
              "    </tr>\n",
              "    <tr>\n",
              "      <th>1</th>\n",
              "      <td>9d16c5d980247861130e0480e2719f448be73d86a496c3...</td>\n",
              "      <td>common_voice_en_18885785.mp3</td>\n",
              "      <td>In American English, \"whilst\" is considered to...</td>\n",
              "      <td>2</td>\n",
              "      <td>0</td>\n",
              "      <td>NaN</td>\n",
              "      <td>NaN</td>\n",
              "      <td>NaN</td>\n",
              "    </tr>\n",
              "    <tr>\n",
              "      <th>2</th>\n",
              "      <td>9d16c5d980247861130e0480e2719f448be73d86a496c3...</td>\n",
              "      <td>common_voice_en_18885786.mp3</td>\n",
              "      <td>Once again, she is seen performing on a comput...</td>\n",
              "      <td>2</td>\n",
              "      <td>0</td>\n",
              "      <td>NaN</td>\n",
              "      <td>NaN</td>\n",
              "      <td>NaN</td>\n",
              "    </tr>\n",
              "    <tr>\n",
              "      <th>3</th>\n",
              "      <td>9d16c5d980247861130e0480e2719f448be73d86a496c3...</td>\n",
              "      <td>common_voice_en_18885787.mp3</td>\n",
              "      <td>Hippety Hopper returns in McKimson's Pop 'Im Pop!</td>\n",
              "      <td>2</td>\n",
              "      <td>0</td>\n",
              "      <td>NaN</td>\n",
              "      <td>NaN</td>\n",
              "      <td>NaN</td>\n",
              "    </tr>\n",
              "    <tr>\n",
              "      <th>4</th>\n",
              "      <td>9d16c5d980247861130e0480e2719f448be73d86a496c3...</td>\n",
              "      <td>common_voice_en_18885788.mp3</td>\n",
              "      <td>Today, their programs are available on the Int...</td>\n",
              "      <td>2</td>\n",
              "      <td>0</td>\n",
              "      <td>NaN</td>\n",
              "      <td>NaN</td>\n",
              "      <td>NaN</td>\n",
              "    </tr>\n",
              "  </tbody>\n",
              "</table>\n",
              "</div>"
            ],
            "text/plain": [
              "                                           client_id  ... accent\n",
              "0  9d16c5d980247861130e0480e2719f448be73d86a496c3...  ...    NaN\n",
              "1  9d16c5d980247861130e0480e2719f448be73d86a496c3...  ...    NaN\n",
              "2  9d16c5d980247861130e0480e2719f448be73d86a496c3...  ...    NaN\n",
              "3  9d16c5d980247861130e0480e2719f448be73d86a496c3...  ...    NaN\n",
              "4  9d16c5d980247861130e0480e2719f448be73d86a496c3...  ...    NaN\n",
              "\n",
              "[5 rows x 8 columns]"
            ]
          },
          "metadata": {
            "tags": []
          },
          "execution_count": 7
        }
      ]
    },
    {
      "cell_type": "code",
      "metadata": {
        "id": "mxATFlV3Qcmw",
        "colab_type": "code",
        "colab": {
          "base_uri": "https://localhost:8080/",
          "height": 255
        },
        "outputId": "2ebbe379-5f03-4568-a831-23b6d14f2a35"
      },
      "source": [
        "trainDF.tail(5)"
      ],
      "execution_count": 8,
      "outputs": [
        {
          "output_type": "execute_result",
          "data": {
            "text/html": [
              "<div>\n",
              "<style scoped>\n",
              "    .dataframe tbody tr th:only-of-type {\n",
              "        vertical-align: middle;\n",
              "    }\n",
              "\n",
              "    .dataframe tbody tr th {\n",
              "        vertical-align: top;\n",
              "    }\n",
              "\n",
              "    .dataframe thead th {\n",
              "        text-align: right;\n",
              "    }\n",
              "</style>\n",
              "<table border=\"1\" class=\"dataframe\">\n",
              "  <thead>\n",
              "    <tr style=\"text-align: right;\">\n",
              "      <th></th>\n",
              "      <th>client_id</th>\n",
              "      <th>path</th>\n",
              "      <th>sentence</th>\n",
              "      <th>up_votes</th>\n",
              "      <th>down_votes</th>\n",
              "      <th>age</th>\n",
              "      <th>gender</th>\n",
              "      <th>accent</th>\n",
              "    </tr>\n",
              "  </thead>\n",
              "  <tbody>\n",
              "    <tr>\n",
              "      <th>63325</th>\n",
              "      <td>939991dfcf12d8250739f3b4e5ed47e0dc4bf8ffb69810...</td>\n",
              "      <td>common_voice_en_18792608.mp3</td>\n",
              "      <td>It is almost exclusively in the final version ...</td>\n",
              "      <td>2</td>\n",
              "      <td>1</td>\n",
              "      <td>twenties</td>\n",
              "      <td>male</td>\n",
              "      <td>NaN</td>\n",
              "    </tr>\n",
              "    <tr>\n",
              "      <th>63326</th>\n",
              "      <td>939991dfcf12d8250739f3b4e5ed47e0dc4bf8ffb69810...</td>\n",
              "      <td>common_voice_en_18792609.mp3</td>\n",
              "      <td>All songs written by Mark Greaney.</td>\n",
              "      <td>2</td>\n",
              "      <td>0</td>\n",
              "      <td>twenties</td>\n",
              "      <td>male</td>\n",
              "      <td>NaN</td>\n",
              "    </tr>\n",
              "    <tr>\n",
              "      <th>63327</th>\n",
              "      <td>939991dfcf12d8250739f3b4e5ed47e0dc4bf8ffb69810...</td>\n",
              "      <td>common_voice_en_18792611.mp3</td>\n",
              "      <td>Later the ninth and tenth grades were added.</td>\n",
              "      <td>2</td>\n",
              "      <td>1</td>\n",
              "      <td>twenties</td>\n",
              "      <td>male</td>\n",
              "      <td>NaN</td>\n",
              "    </tr>\n",
              "    <tr>\n",
              "      <th>63328</th>\n",
              "      <td>939991dfcf12d8250739f3b4e5ed47e0dc4bf8ffb69810...</td>\n",
              "      <td>common_voice_en_18792612.mp3</td>\n",
              "      <td>Aull, who named it Quasi-Rolle theorem.</td>\n",
              "      <td>2</td>\n",
              "      <td>1</td>\n",
              "      <td>twenties</td>\n",
              "      <td>male</td>\n",
              "      <td>NaN</td>\n",
              "    </tr>\n",
              "    <tr>\n",
              "      <th>63329</th>\n",
              "      <td>939991dfcf12d8250739f3b4e5ed47e0dc4bf8ffb69810...</td>\n",
              "      <td>common_voice_en_18797008.mp3</td>\n",
              "      <td>The Abbey Brook flows into the reservoir from ...</td>\n",
              "      <td>2</td>\n",
              "      <td>1</td>\n",
              "      <td>twenties</td>\n",
              "      <td>male</td>\n",
              "      <td>NaN</td>\n",
              "    </tr>\n",
              "  </tbody>\n",
              "</table>\n",
              "</div>"
            ],
            "text/plain": [
              "                                               client_id  ... accent\n",
              "63325  939991dfcf12d8250739f3b4e5ed47e0dc4bf8ffb69810...  ...    NaN\n",
              "63326  939991dfcf12d8250739f3b4e5ed47e0dc4bf8ffb69810...  ...    NaN\n",
              "63327  939991dfcf12d8250739f3b4e5ed47e0dc4bf8ffb69810...  ...    NaN\n",
              "63328  939991dfcf12d8250739f3b4e5ed47e0dc4bf8ffb69810...  ...    NaN\n",
              "63329  939991dfcf12d8250739f3b4e5ed47e0dc4bf8ffb69810...  ...    NaN\n",
              "\n",
              "[5 rows x 8 columns]"
            ]
          },
          "metadata": {
            "tags": []
          },
          "execution_count": 8
        }
      ]
    },
    {
      "cell_type": "code",
      "metadata": {
        "id": "iLSquN3rZGnl",
        "colab_type": "code",
        "colab": {
          "base_uri": "https://localhost:8080/",
          "height": 173
        },
        "outputId": "d060aab4-7559-4038-ca5b-f1818376c7be"
      },
      "source": [
        "trainDF.describe(include='O')"
      ],
      "execution_count": 36,
      "outputs": [
        {
          "output_type": "execute_result",
          "data": {
            "text/html": [
              "<div>\n",
              "<style scoped>\n",
              "    .dataframe tbody tr th:only-of-type {\n",
              "        vertical-align: middle;\n",
              "    }\n",
              "\n",
              "    .dataframe tbody tr th {\n",
              "        vertical-align: top;\n",
              "    }\n",
              "\n",
              "    .dataframe thead th {\n",
              "        text-align: right;\n",
              "    }\n",
              "</style>\n",
              "<table border=\"1\" class=\"dataframe\">\n",
              "  <thead>\n",
              "    <tr style=\"text-align: right;\">\n",
              "      <th></th>\n",
              "      <th>client_id</th>\n",
              "      <th>path</th>\n",
              "      <th>sentence</th>\n",
              "      <th>age</th>\n",
              "      <th>gender</th>\n",
              "      <th>accent</th>\n",
              "    </tr>\n",
              "  </thead>\n",
              "  <tbody>\n",
              "    <tr>\n",
              "      <th>count</th>\n",
              "      <td>63330</td>\n",
              "      <td>63330</td>\n",
              "      <td>63330</td>\n",
              "      <td>56131</td>\n",
              "      <td>56257</td>\n",
              "      <td>44348</td>\n",
              "    </tr>\n",
              "    <tr>\n",
              "      <th>unique</th>\n",
              "      <td>1609</td>\n",
              "      <td>63330</td>\n",
              "      <td>63330</td>\n",
              "      <td>9</td>\n",
              "      <td>3</td>\n",
              "      <td>15</td>\n",
              "    </tr>\n",
              "    <tr>\n",
              "      <th>top</th>\n",
              "      <td>ab72e9ab22713aec03a3189202a0713e56016ea07569b3...</td>\n",
              "      <td>common_voice_en_18857418.mp3</td>\n",
              "      <td>With the start of Oprichnina, however, Ivan's ...</td>\n",
              "      <td>twenties</td>\n",
              "      <td>male</td>\n",
              "      <td>us</td>\n",
              "    </tr>\n",
              "    <tr>\n",
              "      <th>freq</th>\n",
              "      <td>5944</td>\n",
              "      <td>1</td>\n",
              "      <td>1</td>\n",
              "      <td>19567</td>\n",
              "      <td>44908</td>\n",
              "      <td>24993</td>\n",
              "    </tr>\n",
              "  </tbody>\n",
              "</table>\n",
              "</div>"
            ],
            "text/plain": [
              "                                                client_id  ... accent\n",
              "count                                               63330  ...  44348\n",
              "unique                                               1609  ...     15\n",
              "top     ab72e9ab22713aec03a3189202a0713e56016ea07569b3...  ...     us\n",
              "freq                                                 5944  ...  24993\n",
              "\n",
              "[4 rows x 6 columns]"
            ]
          },
          "metadata": {
            "tags": []
          },
          "execution_count": 36
        }
      ]
    },
    {
      "cell_type": "code",
      "metadata": {
        "id": "J446ppy1U-T0",
        "colab_type": "code",
        "colab": {
          "base_uri": "https://localhost:8080/",
          "height": 359
        },
        "outputId": "6888f484-35e1-4ea4-d782-c408dc472cc1"
      },
      "source": [
        "trainDF[['age', 'client_id']].astype(str).groupby(['age'], as_index=False).count().sort_values(by='client_id', ascending=False)"
      ],
      "execution_count": 22,
      "outputs": [
        {
          "output_type": "execute_result",
          "data": {
            "text/html": [
              "<div>\n",
              "<style scoped>\n",
              "    .dataframe tbody tr th:only-of-type {\n",
              "        vertical-align: middle;\n",
              "    }\n",
              "\n",
              "    .dataframe tbody tr th {\n",
              "        vertical-align: top;\n",
              "    }\n",
              "\n",
              "    .dataframe thead th {\n",
              "        text-align: right;\n",
              "    }\n",
              "</style>\n",
              "<table border=\"1\" class=\"dataframe\">\n",
              "  <thead>\n",
              "    <tr style=\"text-align: right;\">\n",
              "      <th></th>\n",
              "      <th>age</th>\n",
              "      <th>client_id</th>\n",
              "    </tr>\n",
              "  </thead>\n",
              "  <tbody>\n",
              "    <tr>\n",
              "      <th>9</th>\n",
              "      <td>twenties</td>\n",
              "      <td>19567</td>\n",
              "    </tr>\n",
              "    <tr>\n",
              "      <th>8</th>\n",
              "      <td>thirties</td>\n",
              "      <td>11638</td>\n",
              "    </tr>\n",
              "    <tr>\n",
              "      <th>6</th>\n",
              "      <td>sixties</td>\n",
              "      <td>8966</td>\n",
              "    </tr>\n",
              "    <tr>\n",
              "      <th>3</th>\n",
              "      <td>nan</td>\n",
              "      <td>7199</td>\n",
              "    </tr>\n",
              "    <tr>\n",
              "      <th>2</th>\n",
              "      <td>fourties</td>\n",
              "      <td>6070</td>\n",
              "    </tr>\n",
              "    <tr>\n",
              "      <th>1</th>\n",
              "      <td>fifties</td>\n",
              "      <td>4517</td>\n",
              "    </tr>\n",
              "    <tr>\n",
              "      <th>7</th>\n",
              "      <td>teens</td>\n",
              "      <td>4364</td>\n",
              "    </tr>\n",
              "    <tr>\n",
              "      <th>5</th>\n",
              "      <td>seventies</td>\n",
              "      <td>761</td>\n",
              "    </tr>\n",
              "    <tr>\n",
              "      <th>0</th>\n",
              "      <td>eighties</td>\n",
              "      <td>195</td>\n",
              "    </tr>\n",
              "    <tr>\n",
              "      <th>4</th>\n",
              "      <td>nineties</td>\n",
              "      <td>53</td>\n",
              "    </tr>\n",
              "  </tbody>\n",
              "</table>\n",
              "</div>"
            ],
            "text/plain": [
              "         age  client_id\n",
              "9   twenties      19567\n",
              "8   thirties      11638\n",
              "6    sixties       8966\n",
              "3        nan       7199\n",
              "2   fourties       6070\n",
              "1    fifties       4517\n",
              "7      teens       4364\n",
              "5  seventies        761\n",
              "0   eighties        195\n",
              "4   nineties         53"
            ]
          },
          "metadata": {
            "tags": []
          },
          "execution_count": 22
        }
      ]
    },
    {
      "cell_type": "code",
      "metadata": {
        "id": "7pU9cNNQVnhy",
        "colab_type": "code",
        "colab": {
          "base_uri": "https://localhost:8080/",
          "height": 545
        },
        "outputId": "938d7d00-538e-4fa9-b341-01f75c5a24b7"
      },
      "source": [
        "trainDF[['accent', 'client_id']].astype(str).groupby(['accent'], as_index=False).count().sort_values(by='client_id', ascending=False)"
      ],
      "execution_count": 23,
      "outputs": [
        {
          "output_type": "execute_result",
          "data": {
            "text/html": [
              "<div>\n",
              "<style scoped>\n",
              "    .dataframe tbody tr th:only-of-type {\n",
              "        vertical-align: middle;\n",
              "    }\n",
              "\n",
              "    .dataframe tbody tr th {\n",
              "        vertical-align: top;\n",
              "    }\n",
              "\n",
              "    .dataframe thead th {\n",
              "        text-align: right;\n",
              "    }\n",
              "</style>\n",
              "<table border=\"1\" class=\"dataframe\">\n",
              "  <thead>\n",
              "    <tr style=\"text-align: right;\">\n",
              "      <th></th>\n",
              "      <th>accent</th>\n",
              "      <th>client_id</th>\n",
              "    </tr>\n",
              "  </thead>\n",
              "  <tbody>\n",
              "    <tr>\n",
              "      <th>14</th>\n",
              "      <td>us</td>\n",
              "      <td>24993</td>\n",
              "    </tr>\n",
              "    <tr>\n",
              "      <th>8</th>\n",
              "      <td>nan</td>\n",
              "      <td>18982</td>\n",
              "    </tr>\n",
              "    <tr>\n",
              "      <th>3</th>\n",
              "      <td>england</td>\n",
              "      <td>5287</td>\n",
              "    </tr>\n",
              "    <tr>\n",
              "      <th>5</th>\n",
              "      <td>indian</td>\n",
              "      <td>4556</td>\n",
              "    </tr>\n",
              "    <tr>\n",
              "      <th>1</th>\n",
              "      <td>australia</td>\n",
              "      <td>3834</td>\n",
              "    </tr>\n",
              "    <tr>\n",
              "      <th>2</th>\n",
              "      <td>canada</td>\n",
              "      <td>3153</td>\n",
              "    </tr>\n",
              "    <tr>\n",
              "      <th>9</th>\n",
              "      <td>newzealand</td>\n",
              "      <td>585</td>\n",
              "    </tr>\n",
              "    <tr>\n",
              "      <th>0</th>\n",
              "      <td>african</td>\n",
              "      <td>442</td>\n",
              "    </tr>\n",
              "    <tr>\n",
              "      <th>12</th>\n",
              "      <td>scotland</td>\n",
              "      <td>375</td>\n",
              "    </tr>\n",
              "    <tr>\n",
              "      <th>11</th>\n",
              "      <td>philippines</td>\n",
              "      <td>322</td>\n",
              "    </tr>\n",
              "    <tr>\n",
              "      <th>13</th>\n",
              "      <td>singapore</td>\n",
              "      <td>294</td>\n",
              "    </tr>\n",
              "    <tr>\n",
              "      <th>6</th>\n",
              "      <td>ireland</td>\n",
              "      <td>257</td>\n",
              "    </tr>\n",
              "    <tr>\n",
              "      <th>7</th>\n",
              "      <td>malaysia</td>\n",
              "      <td>114</td>\n",
              "    </tr>\n",
              "    <tr>\n",
              "      <th>10</th>\n",
              "      <td>other</td>\n",
              "      <td>113</td>\n",
              "    </tr>\n",
              "    <tr>\n",
              "      <th>4</th>\n",
              "      <td>hongkong</td>\n",
              "      <td>20</td>\n",
              "    </tr>\n",
              "    <tr>\n",
              "      <th>15</th>\n",
              "      <td>wales</td>\n",
              "      <td>3</td>\n",
              "    </tr>\n",
              "  </tbody>\n",
              "</table>\n",
              "</div>"
            ],
            "text/plain": [
              "         accent  client_id\n",
              "14           us      24993\n",
              "8           nan      18982\n",
              "3       england       5287\n",
              "5        indian       4556\n",
              "1     australia       3834\n",
              "2        canada       3153\n",
              "9    newzealand        585\n",
              "0       african        442\n",
              "12     scotland        375\n",
              "11  philippines        322\n",
              "13    singapore        294\n",
              "6       ireland        257\n",
              "7      malaysia        114\n",
              "10        other        113\n",
              "4      hongkong         20\n",
              "15        wales          3"
            ]
          },
          "metadata": {
            "tags": []
          },
          "execution_count": 23
        }
      ]
    },
    {
      "cell_type": "code",
      "metadata": {
        "id": "5bDpGkEfWaKP",
        "colab_type": "code",
        "colab": {
          "base_uri": "https://localhost:8080/",
          "height": 173
        },
        "outputId": "ba2658e7-e4e9-4422-e646-2e60bfdd9af5"
      },
      "source": [
        "trainDF[['gender', 'client_id']].astype(str).groupby(['gender'], as_index=False).count().sort_values(by='client_id', ascending=False)"
      ],
      "execution_count": 24,
      "outputs": [
        {
          "output_type": "execute_result",
          "data": {
            "text/html": [
              "<div>\n",
              "<style scoped>\n",
              "    .dataframe tbody tr th:only-of-type {\n",
              "        vertical-align: middle;\n",
              "    }\n",
              "\n",
              "    .dataframe tbody tr th {\n",
              "        vertical-align: top;\n",
              "    }\n",
              "\n",
              "    .dataframe thead th {\n",
              "        text-align: right;\n",
              "    }\n",
              "</style>\n",
              "<table border=\"1\" class=\"dataframe\">\n",
              "  <thead>\n",
              "    <tr style=\"text-align: right;\">\n",
              "      <th></th>\n",
              "      <th>gender</th>\n",
              "      <th>client_id</th>\n",
              "    </tr>\n",
              "  </thead>\n",
              "  <tbody>\n",
              "    <tr>\n",
              "      <th>1</th>\n",
              "      <td>male</td>\n",
              "      <td>44908</td>\n",
              "    </tr>\n",
              "    <tr>\n",
              "      <th>0</th>\n",
              "      <td>female</td>\n",
              "      <td>9952</td>\n",
              "    </tr>\n",
              "    <tr>\n",
              "      <th>2</th>\n",
              "      <td>nan</td>\n",
              "      <td>7073</td>\n",
              "    </tr>\n",
              "    <tr>\n",
              "      <th>3</th>\n",
              "      <td>other</td>\n",
              "      <td>1397</td>\n",
              "    </tr>\n",
              "  </tbody>\n",
              "</table>\n",
              "</div>"
            ],
            "text/plain": [
              "   gender  client_id\n",
              "1    male      44908\n",
              "0  female       9952\n",
              "2     nan       7073\n",
              "3   other       1397"
            ]
          },
          "metadata": {
            "tags": []
          },
          "execution_count": 24
        }
      ]
    },
    {
      "cell_type": "code",
      "metadata": {
        "id": "3DAdsEFDWspY",
        "colab_type": "code",
        "colab": {
          "base_uri": "https://localhost:8080/",
          "height": 204
        },
        "outputId": "5c33bedc-ecca-4d82-e2bc-690e69bde660"
      },
      "source": [
        "pd.crosstab(trainDF['gender'].astype(str), trainDF['accent'].astype(str))"
      ],
      "execution_count": 29,
      "outputs": [
        {
          "output_type": "execute_result",
          "data": {
            "text/html": [
              "<div>\n",
              "<style scoped>\n",
              "    .dataframe tbody tr th:only-of-type {\n",
              "        vertical-align: middle;\n",
              "    }\n",
              "\n",
              "    .dataframe tbody tr th {\n",
              "        vertical-align: top;\n",
              "    }\n",
              "\n",
              "    .dataframe thead th {\n",
              "        text-align: right;\n",
              "    }\n",
              "</style>\n",
              "<table border=\"1\" class=\"dataframe\">\n",
              "  <thead>\n",
              "    <tr style=\"text-align: right;\">\n",
              "      <th>accent</th>\n",
              "      <th>african</th>\n",
              "      <th>australia</th>\n",
              "      <th>canada</th>\n",
              "      <th>england</th>\n",
              "      <th>hongkong</th>\n",
              "      <th>indian</th>\n",
              "      <th>ireland</th>\n",
              "      <th>malaysia</th>\n",
              "      <th>nan</th>\n",
              "      <th>newzealand</th>\n",
              "      <th>other</th>\n",
              "      <th>philippines</th>\n",
              "      <th>scotland</th>\n",
              "      <th>singapore</th>\n",
              "      <th>us</th>\n",
              "      <th>wales</th>\n",
              "    </tr>\n",
              "    <tr>\n",
              "      <th>gender</th>\n",
              "      <th></th>\n",
              "      <th></th>\n",
              "      <th></th>\n",
              "      <th></th>\n",
              "      <th></th>\n",
              "      <th></th>\n",
              "      <th></th>\n",
              "      <th></th>\n",
              "      <th></th>\n",
              "      <th></th>\n",
              "      <th></th>\n",
              "      <th></th>\n",
              "      <th></th>\n",
              "      <th></th>\n",
              "      <th></th>\n",
              "      <th></th>\n",
              "    </tr>\n",
              "  </thead>\n",
              "  <tbody>\n",
              "    <tr>\n",
              "      <th>female</th>\n",
              "      <td>96</td>\n",
              "      <td>250</td>\n",
              "      <td>1732</td>\n",
              "      <td>140</td>\n",
              "      <td>16</td>\n",
              "      <td>793</td>\n",
              "      <td>61</td>\n",
              "      <td>32</td>\n",
              "      <td>2817</td>\n",
              "      <td>0</td>\n",
              "      <td>0</td>\n",
              "      <td>76</td>\n",
              "      <td>327</td>\n",
              "      <td>0</td>\n",
              "      <td>3612</td>\n",
              "      <td>0</td>\n",
              "    </tr>\n",
              "    <tr>\n",
              "      <th>male</th>\n",
              "      <td>346</td>\n",
              "      <td>2622</td>\n",
              "      <td>1421</td>\n",
              "      <td>5052</td>\n",
              "      <td>4</td>\n",
              "      <td>3763</td>\n",
              "      <td>196</td>\n",
              "      <td>82</td>\n",
              "      <td>9263</td>\n",
              "      <td>585</td>\n",
              "      <td>113</td>\n",
              "      <td>246</td>\n",
              "      <td>48</td>\n",
              "      <td>294</td>\n",
              "      <td>20870</td>\n",
              "      <td>3</td>\n",
              "    </tr>\n",
              "    <tr>\n",
              "      <th>nan</th>\n",
              "      <td>0</td>\n",
              "      <td>45</td>\n",
              "      <td>0</td>\n",
              "      <td>61</td>\n",
              "      <td>0</td>\n",
              "      <td>0</td>\n",
              "      <td>0</td>\n",
              "      <td>0</td>\n",
              "      <td>6875</td>\n",
              "      <td>0</td>\n",
              "      <td>0</td>\n",
              "      <td>0</td>\n",
              "      <td>0</td>\n",
              "      <td>0</td>\n",
              "      <td>92</td>\n",
              "      <td>0</td>\n",
              "    </tr>\n",
              "    <tr>\n",
              "      <th>other</th>\n",
              "      <td>0</td>\n",
              "      <td>917</td>\n",
              "      <td>0</td>\n",
              "      <td>34</td>\n",
              "      <td>0</td>\n",
              "      <td>0</td>\n",
              "      <td>0</td>\n",
              "      <td>0</td>\n",
              "      <td>27</td>\n",
              "      <td>0</td>\n",
              "      <td>0</td>\n",
              "      <td>0</td>\n",
              "      <td>0</td>\n",
              "      <td>0</td>\n",
              "      <td>419</td>\n",
              "      <td>0</td>\n",
              "    </tr>\n",
              "  </tbody>\n",
              "</table>\n",
              "</div>"
            ],
            "text/plain": [
              "accent  african  australia  canada  england  ...  scotland  singapore     us  wales\n",
              "gender                                       ...                                   \n",
              "female       96        250    1732      140  ...       327          0   3612      0\n",
              "male        346       2622    1421     5052  ...        48        294  20870      3\n",
              "nan           0         45       0       61  ...         0          0     92      0\n",
              "other         0        917       0       34  ...         0          0    419      0\n",
              "\n",
              "[4 rows x 16 columns]"
            ]
          },
          "metadata": {
            "tags": []
          },
          "execution_count": 29
        }
      ]
    },
    {
      "cell_type": "code",
      "metadata": {
        "id": "PhETT4aQQgww",
        "colab_type": "code",
        "colab": {
          "base_uri": "https://localhost:8080/",
          "height": 297
        },
        "outputId": "bb0edce0-8e56-4951-fa3c-e901ab6a6059"
      },
      "source": [
        "trainDF.describe()"
      ],
      "execution_count": 37,
      "outputs": [
        {
          "output_type": "execute_result",
          "data": {
            "text/html": [
              "<div>\n",
              "<style scoped>\n",
              "    .dataframe tbody tr th:only-of-type {\n",
              "        vertical-align: middle;\n",
              "    }\n",
              "\n",
              "    .dataframe tbody tr th {\n",
              "        vertical-align: top;\n",
              "    }\n",
              "\n",
              "    .dataframe thead th {\n",
              "        text-align: right;\n",
              "    }\n",
              "</style>\n",
              "<table border=\"1\" class=\"dataframe\">\n",
              "  <thead>\n",
              "    <tr style=\"text-align: right;\">\n",
              "      <th></th>\n",
              "      <th>up_votes</th>\n",
              "      <th>down_votes</th>\n",
              "    </tr>\n",
              "  </thead>\n",
              "  <tbody>\n",
              "    <tr>\n",
              "      <th>count</th>\n",
              "      <td>63330.000000</td>\n",
              "      <td>63330.000000</td>\n",
              "    </tr>\n",
              "    <tr>\n",
              "      <th>mean</th>\n",
              "      <td>2.051240</td>\n",
              "      <td>0.155724</td>\n",
              "    </tr>\n",
              "    <tr>\n",
              "      <th>std</th>\n",
              "      <td>0.283579</td>\n",
              "      <td>0.368814</td>\n",
              "    </tr>\n",
              "    <tr>\n",
              "      <th>min</th>\n",
              "      <td>2.000000</td>\n",
              "      <td>0.000000</td>\n",
              "    </tr>\n",
              "    <tr>\n",
              "      <th>25%</th>\n",
              "      <td>2.000000</td>\n",
              "      <td>0.000000</td>\n",
              "    </tr>\n",
              "    <tr>\n",
              "      <th>50%</th>\n",
              "      <td>2.000000</td>\n",
              "      <td>0.000000</td>\n",
              "    </tr>\n",
              "    <tr>\n",
              "      <th>75%</th>\n",
              "      <td>2.000000</td>\n",
              "      <td>0.000000</td>\n",
              "    </tr>\n",
              "    <tr>\n",
              "      <th>max</th>\n",
              "      <td>20.000000</td>\n",
              "      <td>4.000000</td>\n",
              "    </tr>\n",
              "  </tbody>\n",
              "</table>\n",
              "</div>"
            ],
            "text/plain": [
              "           up_votes    down_votes\n",
              "count  63330.000000  63330.000000\n",
              "mean       2.051240      0.155724\n",
              "std        0.283579      0.368814\n",
              "min        2.000000      0.000000\n",
              "25%        2.000000      0.000000\n",
              "50%        2.000000      0.000000\n",
              "75%        2.000000      0.000000\n",
              "max       20.000000      4.000000"
            ]
          },
          "metadata": {
            "tags": []
          },
          "execution_count": 37
        }
      ]
    },
    {
      "cell_type": "code",
      "metadata": {
        "id": "KZ6n0H4CYWQQ",
        "colab_type": "code",
        "colab": {
          "base_uri": "https://localhost:8080/",
          "height": 265
        },
        "outputId": "76d428f1-c9df-4bfe-ea69-c63f5a605d3b"
      },
      "source": [
        "plt.hist(trainDF['up_votes'], bins=100)\n",
        "plt.show()"
      ],
      "execution_count": 34,
      "outputs": [
        {
          "output_type": "display_data",
          "data": {
            "image/png": "[encoded data removed]",
            "text/plain": [
              "<Figure size 432x288 with 1 Axes>"
            ]
          },
          "metadata": {
            "tags": []
          }
        }
      ]
    },
    {
      "cell_type": "code",
      "metadata": {
        "id": "JLBX8e-JYwyD",
        "colab_type": "code",
        "colab": {
          "base_uri": "https://localhost:8080/",
          "height": 265
        },
        "outputId": "09227058-a2eb-4f4d-e868-35be86f187ab"
      },
      "source": [
        "plt.hist(trainDF['down_votes'], bins=100)\n",
        "plt.show()"
      ],
      "execution_count": 35,
      "outputs": [
        {
          "output_type": "display_data",
          "data": {
            "image/png": "[encoded data removed]",
            "text/plain": [
              "<Figure size 432x288 with 1 Axes>"
            ]
          },
          "metadata": {
            "tags": []
          }
        }
      ]
    },
    {
      "cell_type": "markdown",
      "metadata": {
        "id": "IBgaYP-hR4-0",
        "colab_type": "text"
      },
      "source": [
        "### Test data"
      ]
    },
    {
      "cell_type": "code",
      "metadata": {
        "id": "UJzx2oyVQmRq",
        "colab_type": "code",
        "colab": {}
      },
      "source": [
        "testDF = pd.read_csv(loc + 'test.tsv', sep='\\t')"
      ],
      "execution_count": 0,
      "outputs": []
    },
    {
      "cell_type": "code",
      "metadata": {
        "id": "JJ72zjm89s38",
        "colab_type": "code",
        "colab": {
          "base_uri": "https://localhost:8080/",
          "height": 173
        },
        "outputId": "2c14e1d8-2560-4b3f-f6f7-80292ed6880f"
      },
      "source": [
        "testDF.describe(include='O')"
      ],
      "execution_count": 65,
      "outputs": [
        {
          "output_type": "execute_result",
          "data": {
            "text/html": [
              "<div>\n",
              "<style scoped>\n",
              "    .dataframe tbody tr th:only-of-type {\n",
              "        vertical-align: middle;\n",
              "    }\n",
              "\n",
              "    .dataframe tbody tr th {\n",
              "        vertical-align: top;\n",
              "    }\n",
              "\n",
              "    .dataframe thead th {\n",
              "        text-align: right;\n",
              "    }\n",
              "</style>\n",
              "<table border=\"1\" class=\"dataframe\">\n",
              "  <thead>\n",
              "    <tr style=\"text-align: right;\">\n",
              "      <th></th>\n",
              "      <th>client_id</th>\n",
              "      <th>path</th>\n",
              "      <th>sentence</th>\n",
              "      <th>age</th>\n",
              "      <th>gender</th>\n",
              "      <th>accent</th>\n",
              "    </tr>\n",
              "  </thead>\n",
              "  <tbody>\n",
              "    <tr>\n",
              "      <th>count</th>\n",
              "      <td>13178</td>\n",
              "      <td>13178</td>\n",
              "      <td>13177</td>\n",
              "      <td>1917</td>\n",
              "      <td>1912</td>\n",
              "      <td>1311</td>\n",
              "    </tr>\n",
              "    <tr>\n",
              "      <th>unique</th>\n",
              "      <td>8019</td>\n",
              "      <td>13178</td>\n",
              "      <td>13177</td>\n",
              "      <td>9</td>\n",
              "      <td>3</td>\n",
              "      <td>17</td>\n",
              "    </tr>\n",
              "    <tr>\n",
              "      <th>top</th>\n",
              "      <td>445eeb6ca660413543ed64b31d67e8ed4cfb42fda819e0...</td>\n",
              "      <td>common_voice_en_502640.mp3</td>\n",
              "      <td>Drinking too much coke can cause diabetes.</td>\n",
              "      <td>twenties</td>\n",
              "      <td>male</td>\n",
              "      <td>us</td>\n",
              "    </tr>\n",
              "    <tr>\n",
              "      <th>freq</th>\n",
              "      <td>4</td>\n",
              "      <td>1</td>\n",
              "      <td>1</td>\n",
              "      <td>911</td>\n",
              "      <td>1618</td>\n",
              "      <td>630</td>\n",
              "    </tr>\n",
              "  </tbody>\n",
              "</table>\n",
              "</div>"
            ],
            "text/plain": [
              "                                                client_id  ... accent\n",
              "count                                               13178  ...   1311\n",
              "unique                                               8019  ...     17\n",
              "top     445eeb6ca660413543ed64b31d67e8ed4cfb42fda819e0...  ...     us\n",
              "freq                                                    4  ...    630\n",
              "\n",
              "[4 rows x 6 columns]"
            ]
          },
          "metadata": {
            "tags": []
          },
          "execution_count": 65
        }
      ]
    },
    {
      "cell_type": "code",
      "metadata": {
        "id": "_efN4bIXSARZ",
        "colab_type": "code",
        "colab": {
          "base_uri": "https://localhost:8080/",
          "height": 359
        },
        "outputId": "a692d6b0-9706-41db-8e8b-96ec84e2e7af"
      },
      "source": [
        "testDF[['age', 'client_id']].astype(str).groupby(['age'], as_index=False).count().sort_values(by='client_id', ascending=False)"
      ],
      "execution_count": 38,
      "outputs": [
        {
          "output_type": "execute_result",
          "data": {
            "text/html": [
              "<div>\n",
              "<style scoped>\n",
              "    .dataframe tbody tr th:only-of-type {\n",
              "        vertical-align: middle;\n",
              "    }\n",
              "\n",
              "    .dataframe tbody tr th {\n",
              "        vertical-align: top;\n",
              "    }\n",
              "\n",
              "    .dataframe thead th {\n",
              "        text-align: right;\n",
              "    }\n",
              "</style>\n",
              "<table border=\"1\" class=\"dataframe\">\n",
              "  <thead>\n",
              "    <tr style=\"text-align: right;\">\n",
              "      <th></th>\n",
              "      <th>age</th>\n",
              "      <th>client_id</th>\n",
              "    </tr>\n",
              "  </thead>\n",
              "  <tbody>\n",
              "    <tr>\n",
              "      <th>3</th>\n",
              "      <td>nan</td>\n",
              "      <td>11261</td>\n",
              "    </tr>\n",
              "    <tr>\n",
              "      <th>9</th>\n",
              "      <td>twenties</td>\n",
              "      <td>911</td>\n",
              "    </tr>\n",
              "    <tr>\n",
              "      <th>8</th>\n",
              "      <td>thirties</td>\n",
              "      <td>415</td>\n",
              "    </tr>\n",
              "    <tr>\n",
              "      <th>7</th>\n",
              "      <td>teens</td>\n",
              "      <td>225</td>\n",
              "    </tr>\n",
              "    <tr>\n",
              "      <th>2</th>\n",
              "      <td>fourties</td>\n",
              "      <td>177</td>\n",
              "    </tr>\n",
              "    <tr>\n",
              "      <th>1</th>\n",
              "      <td>fifties</td>\n",
              "      <td>108</td>\n",
              "    </tr>\n",
              "    <tr>\n",
              "      <th>6</th>\n",
              "      <td>sixties</td>\n",
              "      <td>54</td>\n",
              "    </tr>\n",
              "    <tr>\n",
              "      <th>5</th>\n",
              "      <td>seventies</td>\n",
              "      <td>23</td>\n",
              "    </tr>\n",
              "    <tr>\n",
              "      <th>0</th>\n",
              "      <td>eighties</td>\n",
              "      <td>3</td>\n",
              "    </tr>\n",
              "    <tr>\n",
              "      <th>4</th>\n",
              "      <td>nineties</td>\n",
              "      <td>1</td>\n",
              "    </tr>\n",
              "  </tbody>\n",
              "</table>\n",
              "</div>"
            ],
            "text/plain": [
              "         age  client_id\n",
              "3        nan      11261\n",
              "9   twenties        911\n",
              "8   thirties        415\n",
              "7      teens        225\n",
              "2   fourties        177\n",
              "1    fifties        108\n",
              "6    sixties         54\n",
              "5  seventies         23\n",
              "0   eighties          3\n",
              "4   nineties          1"
            ]
          },
          "metadata": {
            "tags": []
          },
          "execution_count": 38
        }
      ]
    },
    {
      "cell_type": "code",
      "metadata": {
        "id": "_8XWBMnoZdqa",
        "colab_type": "code",
        "colab": {
          "base_uri": "https://localhost:8080/",
          "height": 607
        },
        "outputId": "50ccf5e0-be8b-4894-d4d4-be065fc3f8af"
      },
      "source": [
        "testDF[['accent', 'client_id']].astype(str).groupby(['accent'], as_index=False).count().sort_values(by='client_id', ascending=False)"
      ],
      "execution_count": 39,
      "outputs": [
        {
          "output_type": "execute_result",
          "data": {
            "text/html": [
              "<div>\n",
              "<style scoped>\n",
              "    .dataframe tbody tr th:only-of-type {\n",
              "        vertical-align: middle;\n",
              "    }\n",
              "\n",
              "    .dataframe tbody tr th {\n",
              "        vertical-align: top;\n",
              "    }\n",
              "\n",
              "    .dataframe thead th {\n",
              "        text-align: right;\n",
              "    }\n",
              "</style>\n",
              "<table border=\"1\" class=\"dataframe\">\n",
              "  <thead>\n",
              "    <tr style=\"text-align: right;\">\n",
              "      <th></th>\n",
              "      <th>accent</th>\n",
              "      <th>client_id</th>\n",
              "    </tr>\n",
              "  </thead>\n",
              "  <tbody>\n",
              "    <tr>\n",
              "      <th>9</th>\n",
              "      <td>nan</td>\n",
              "      <td>11867</td>\n",
              "    </tr>\n",
              "    <tr>\n",
              "      <th>16</th>\n",
              "      <td>us</td>\n",
              "      <td>630</td>\n",
              "    </tr>\n",
              "    <tr>\n",
              "      <th>6</th>\n",
              "      <td>indian</td>\n",
              "      <td>290</td>\n",
              "    </tr>\n",
              "    <tr>\n",
              "      <th>4</th>\n",
              "      <td>england</td>\n",
              "      <td>154</td>\n",
              "    </tr>\n",
              "    <tr>\n",
              "      <th>3</th>\n",
              "      <td>canada</td>\n",
              "      <td>58</td>\n",
              "    </tr>\n",
              "    <tr>\n",
              "      <th>11</th>\n",
              "      <td>other</td>\n",
              "      <td>33</td>\n",
              "    </tr>\n",
              "    <tr>\n",
              "      <th>0</th>\n",
              "      <td>african</td>\n",
              "      <td>25</td>\n",
              "    </tr>\n",
              "    <tr>\n",
              "      <th>7</th>\n",
              "      <td>ireland</td>\n",
              "      <td>23</td>\n",
              "    </tr>\n",
              "    <tr>\n",
              "      <th>1</th>\n",
              "      <td>australia</td>\n",
              "      <td>22</td>\n",
              "    </tr>\n",
              "    <tr>\n",
              "      <th>13</th>\n",
              "      <td>scotland</td>\n",
              "      <td>12</td>\n",
              "    </tr>\n",
              "    <tr>\n",
              "      <th>8</th>\n",
              "      <td>malaysia</td>\n",
              "      <td>11</td>\n",
              "    </tr>\n",
              "    <tr>\n",
              "      <th>10</th>\n",
              "      <td>newzealand</td>\n",
              "      <td>11</td>\n",
              "    </tr>\n",
              "    <tr>\n",
              "      <th>5</th>\n",
              "      <td>hongkong</td>\n",
              "      <td>11</td>\n",
              "    </tr>\n",
              "    <tr>\n",
              "      <th>12</th>\n",
              "      <td>philippines</td>\n",
              "      <td>10</td>\n",
              "    </tr>\n",
              "    <tr>\n",
              "      <th>2</th>\n",
              "      <td>bermuda</td>\n",
              "      <td>10</td>\n",
              "    </tr>\n",
              "    <tr>\n",
              "      <th>14</th>\n",
              "      <td>singapore</td>\n",
              "      <td>4</td>\n",
              "    </tr>\n",
              "    <tr>\n",
              "      <th>17</th>\n",
              "      <td>wales</td>\n",
              "      <td>4</td>\n",
              "    </tr>\n",
              "    <tr>\n",
              "      <th>15</th>\n",
              "      <td>southatlandtic</td>\n",
              "      <td>3</td>\n",
              "    </tr>\n",
              "  </tbody>\n",
              "</table>\n",
              "</div>"
            ],
            "text/plain": [
              "            accent  client_id\n",
              "9              nan      11867\n",
              "16              us        630\n",
              "6           indian        290\n",
              "4          england        154\n",
              "3           canada         58\n",
              "11           other         33\n",
              "0          african         25\n",
              "7          ireland         23\n",
              "1        australia         22\n",
              "13        scotland         12\n",
              "8         malaysia         11\n",
              "10      newzealand         11\n",
              "5         hongkong         11\n",
              "12     philippines         10\n",
              "2          bermuda         10\n",
              "14       singapore          4\n",
              "17           wales          4\n",
              "15  southatlandtic          3"
            ]
          },
          "metadata": {
            "tags": []
          },
          "execution_count": 39
        }
      ]
    },
    {
      "cell_type": "code",
      "metadata": {
        "id": "I9AX8isQZl-z",
        "colab_type": "code",
        "colab": {
          "base_uri": "https://localhost:8080/",
          "height": 173
        },
        "outputId": "5efc0062-4145-4026-85a4-a40d3e9d2c17"
      },
      "source": [
        "testDF[['gender', 'client_id']].astype(str).groupby(['gender'], as_index=False).count().sort_values(by='client_id', ascending=False)"
      ],
      "execution_count": 40,
      "outputs": [
        {
          "output_type": "execute_result",
          "data": {
            "text/html": [
              "<div>\n",
              "<style scoped>\n",
              "    .dataframe tbody tr th:only-of-type {\n",
              "        vertical-align: middle;\n",
              "    }\n",
              "\n",
              "    .dataframe tbody tr th {\n",
              "        vertical-align: top;\n",
              "    }\n",
              "\n",
              "    .dataframe thead th {\n",
              "        text-align: right;\n",
              "    }\n",
              "</style>\n",
              "<table border=\"1\" class=\"dataframe\">\n",
              "  <thead>\n",
              "    <tr style=\"text-align: right;\">\n",
              "      <th></th>\n",
              "      <th>gender</th>\n",
              "      <th>client_id</th>\n",
              "    </tr>\n",
              "  </thead>\n",
              "  <tbody>\n",
              "    <tr>\n",
              "      <th>2</th>\n",
              "      <td>nan</td>\n",
              "      <td>11266</td>\n",
              "    </tr>\n",
              "    <tr>\n",
              "      <th>1</th>\n",
              "      <td>male</td>\n",
              "      <td>1618</td>\n",
              "    </tr>\n",
              "    <tr>\n",
              "      <th>0</th>\n",
              "      <td>female</td>\n",
              "      <td>285</td>\n",
              "    </tr>\n",
              "    <tr>\n",
              "      <th>3</th>\n",
              "      <td>other</td>\n",
              "      <td>9</td>\n",
              "    </tr>\n",
              "  </tbody>\n",
              "</table>\n",
              "</div>"
            ],
            "text/plain": [
              "   gender  client_id\n",
              "2     nan      11266\n",
              "1    male       1618\n",
              "0  female        285\n",
              "3   other          9"
            ]
          },
          "metadata": {
            "tags": []
          },
          "execution_count": 40
        }
      ]
    },
    {
      "cell_type": "code",
      "metadata": {
        "id": "C2kk5d1I42rg",
        "colab_type": "code",
        "colab": {
          "base_uri": "https://localhost:8080/",
          "height": 224
        },
        "outputId": "7fc35f73-a5ac-4005-93ce-89e87b897a6c"
      },
      "source": [
        "pd.crosstab(testDF['gender'].astype(str), testDF['accent'].astype(str))"
      ],
      "execution_count": 42,
      "outputs": [
        {
          "output_type": "execute_result",
          "data": {
            "text/html": [
              "<div>\n",
              "<style scoped>\n",
              "    .dataframe tbody tr th:only-of-type {\n",
              "        vertical-align: middle;\n",
              "    }\n",
              "\n",
              "    .dataframe tbody tr th {\n",
              "        vertical-align: top;\n",
              "    }\n",
              "\n",
              "    .dataframe thead th {\n",
              "        text-align: right;\n",
              "    }\n",
              "</style>\n",
              "<table border=\"1\" class=\"dataframe\">\n",
              "  <thead>\n",
              "    <tr style=\"text-align: right;\">\n",
              "      <th>accent</th>\n",
              "      <th>african</th>\n",
              "      <th>australia</th>\n",
              "      <th>bermuda</th>\n",
              "      <th>canada</th>\n",
              "      <th>england</th>\n",
              "      <th>hongkong</th>\n",
              "      <th>indian</th>\n",
              "      <th>ireland</th>\n",
              "      <th>malaysia</th>\n",
              "      <th>nan</th>\n",
              "      <th>newzealand</th>\n",
              "      <th>other</th>\n",
              "      <th>philippines</th>\n",
              "      <th>scotland</th>\n",
              "      <th>singapore</th>\n",
              "      <th>southatlandtic</th>\n",
              "      <th>us</th>\n",
              "      <th>wales</th>\n",
              "    </tr>\n",
              "    <tr>\n",
              "      <th>gender</th>\n",
              "      <th></th>\n",
              "      <th></th>\n",
              "      <th></th>\n",
              "      <th></th>\n",
              "      <th></th>\n",
              "      <th></th>\n",
              "      <th></th>\n",
              "      <th></th>\n",
              "      <th></th>\n",
              "      <th></th>\n",
              "      <th></th>\n",
              "      <th></th>\n",
              "      <th></th>\n",
              "      <th></th>\n",
              "      <th></th>\n",
              "      <th></th>\n",
              "      <th></th>\n",
              "      <th></th>\n",
              "    </tr>\n",
              "  </thead>\n",
              "  <tbody>\n",
              "    <tr>\n",
              "      <th>female</th>\n",
              "      <td>0</td>\n",
              "      <td>5</td>\n",
              "      <td>3</td>\n",
              "      <td>7</td>\n",
              "      <td>20</td>\n",
              "      <td>5</td>\n",
              "      <td>28</td>\n",
              "      <td>2</td>\n",
              "      <td>4</td>\n",
              "      <td>98</td>\n",
              "      <td>1</td>\n",
              "      <td>5</td>\n",
              "      <td>3</td>\n",
              "      <td>1</td>\n",
              "      <td>0</td>\n",
              "      <td>0</td>\n",
              "      <td>101</td>\n",
              "      <td>2</td>\n",
              "    </tr>\n",
              "    <tr>\n",
              "      <th>male</th>\n",
              "      <td>25</td>\n",
              "      <td>15</td>\n",
              "      <td>7</td>\n",
              "      <td>51</td>\n",
              "      <td>130</td>\n",
              "      <td>6</td>\n",
              "      <td>260</td>\n",
              "      <td>16</td>\n",
              "      <td>7</td>\n",
              "      <td>522</td>\n",
              "      <td>10</td>\n",
              "      <td>28</td>\n",
              "      <td>7</td>\n",
              "      <td>11</td>\n",
              "      <td>2</td>\n",
              "      <td>3</td>\n",
              "      <td>516</td>\n",
              "      <td>2</td>\n",
              "    </tr>\n",
              "    <tr>\n",
              "      <th>nan</th>\n",
              "      <td>0</td>\n",
              "      <td>2</td>\n",
              "      <td>0</td>\n",
              "      <td>0</td>\n",
              "      <td>0</td>\n",
              "      <td>0</td>\n",
              "      <td>2</td>\n",
              "      <td>4</td>\n",
              "      <td>0</td>\n",
              "      <td>11245</td>\n",
              "      <td>0</td>\n",
              "      <td>0</td>\n",
              "      <td>0</td>\n",
              "      <td>0</td>\n",
              "      <td>2</td>\n",
              "      <td>0</td>\n",
              "      <td>11</td>\n",
              "      <td>0</td>\n",
              "    </tr>\n",
              "    <tr>\n",
              "      <th>other</th>\n",
              "      <td>0</td>\n",
              "      <td>0</td>\n",
              "      <td>0</td>\n",
              "      <td>0</td>\n",
              "      <td>4</td>\n",
              "      <td>0</td>\n",
              "      <td>0</td>\n",
              "      <td>1</td>\n",
              "      <td>0</td>\n",
              "      <td>2</td>\n",
              "      <td>0</td>\n",
              "      <td>0</td>\n",
              "      <td>0</td>\n",
              "      <td>0</td>\n",
              "      <td>0</td>\n",
              "      <td>0</td>\n",
              "      <td>2</td>\n",
              "      <td>0</td>\n",
              "    </tr>\n",
              "  </tbody>\n",
              "</table>\n",
              "</div>"
            ],
            "text/plain": [
              "accent  african  australia  bermuda  ...  southatlandtic   us  wales\n",
              "gender                               ...                            \n",
              "female        0          5        3  ...               0  101      2\n",
              "male         25         15        7  ...               3  516      2\n",
              "nan           0          2        0  ...               0   11      0\n",
              "other         0          0        0  ...               0    2      0\n",
              "\n",
              "[4 rows x 18 columns]"
            ]
          },
          "metadata": {
            "tags": []
          },
          "execution_count": 42
        }
      ]
    },
    {
      "cell_type": "code",
      "metadata": {
        "id": "gozaObPL5D_1",
        "colab_type": "code",
        "colab": {
          "base_uri": "https://localhost:8080/",
          "height": 265
        },
        "outputId": "59009332-606e-4444-98cd-7923a7ff2590"
      },
      "source": [
        "plt.hist(testDF['up_votes'], bins=100)\n",
        "plt.show()"
      ],
      "execution_count": 51,
      "outputs": [
        {
          "output_type": "display_data",
          "data": {
            "image/png": "[encoded data removed]",
            "text/plain": [
              "<Figure size 432x288 with 1 Axes>"
            ]
          },
          "metadata": {
            "tags": []
          }
        }
      ]
    },
    {
      "cell_type": "code",
      "metadata": {
        "id": "a5PkocFG5adr",
        "colab_type": "code",
        "colab": {
          "base_uri": "https://localhost:8080/",
          "height": 266
        },
        "outputId": "c8016b35-bd53-447d-ace4-362eed3aa740"
      },
      "source": [
        "plt.hist(testDF['down_votes'], bins=100)\n",
        "plt.show()"
      ],
      "execution_count": 48,
      "outputs": [
        {
          "output_type": "display_data",
          "data": {
            "image/png": "[encoded data removed]",
            "text/plain": [
              "<Figure size 432x288 with 1 Axes>"
            ]
          },
          "metadata": {
            "tags": []
          }
        }
      ]
    },
    {
      "cell_type": "markdown",
      "metadata": {
        "id": "Zu149tQ0ScIY",
        "colab_type": "text"
      },
      "source": [
        "### Validated data"
      ]
    },
    {
      "cell_type": "code",
      "metadata": {
        "id": "bWbuttL8SDbV",
        "colab_type": "code",
        "colab": {}
      },
      "source": [
        "valDF = pd.read_csv(loc + 'validated.tsv', sep='\\t')"
      ],
      "execution_count": 0,
      "outputs": []
    },
    {
      "cell_type": "code",
      "metadata": {
        "id": "qidKT8i39aGm",
        "colab_type": "code",
        "colab": {
          "base_uri": "https://localhost:8080/",
          "height": 173
        },
        "outputId": "910ca8de-7262-428b-83d5-3f030c471402"
      },
      "source": [
        "valDF.describe(include=\"O\")"
      ],
      "execution_count": 64,
      "outputs": [
        {
          "output_type": "execute_result",
          "data": {
            "text/html": [
              "<div>\n",
              "<style scoped>\n",
              "    .dataframe tbody tr th:only-of-type {\n",
              "        vertical-align: middle;\n",
              "    }\n",
              "\n",
              "    .dataframe tbody tr th {\n",
              "        vertical-align: top;\n",
              "    }\n",
              "\n",
              "    .dataframe thead th {\n",
              "        text-align: right;\n",
              "    }\n",
              "</style>\n",
              "<table border=\"1\" class=\"dataframe\">\n",
              "  <thead>\n",
              "    <tr style=\"text-align: right;\">\n",
              "      <th></th>\n",
              "      <th>client_id</th>\n",
              "      <th>path</th>\n",
              "      <th>sentence</th>\n",
              "      <th>age</th>\n",
              "      <th>gender</th>\n",
              "      <th>accent</th>\n",
              "    </tr>\n",
              "  </thead>\n",
              "  <tbody>\n",
              "    <tr>\n",
              "      <th>count</th>\n",
              "      <td>644119</td>\n",
              "      <td>644119</td>\n",
              "      <td>644113</td>\n",
              "      <td>369018</td>\n",
              "      <td>371045</td>\n",
              "      <td>304119</td>\n",
              "    </tr>\n",
              "    <tr>\n",
              "      <th>unique</th>\n",
              "      <td>31857</td>\n",
              "      <td>644119</td>\n",
              "      <td>89685</td>\n",
              "      <td>9</td>\n",
              "      <td>3</td>\n",
              "      <td>17</td>\n",
              "    </tr>\n",
              "    <tr>\n",
              "      <th>top</th>\n",
              "      <td>939991dfcf12d8250739f3b4e5ed47e0dc4bf8ffb69810...</td>\n",
              "      <td>common_voice_en_18161500.mp3</td>\n",
              "      <td>It had a diameter of about thirty yards.</td>\n",
              "      <td>twenties</td>\n",
              "      <td>male</td>\n",
              "      <td>us</td>\n",
              "    </tr>\n",
              "    <tr>\n",
              "      <th>freq</th>\n",
              "      <td>6083</td>\n",
              "      <td>1</td>\n",
              "      <td>309</td>\n",
              "      <td>127535</td>\n",
              "      <td>290987</td>\n",
              "      <td>149637</td>\n",
              "    </tr>\n",
              "  </tbody>\n",
              "</table>\n",
              "</div>"
            ],
            "text/plain": [
              "                                                client_id  ...  accent\n",
              "count                                              644119  ...  304119\n",
              "unique                                              31857  ...      17\n",
              "top     939991dfcf12d8250739f3b4e5ed47e0dc4bf8ffb69810...  ...      us\n",
              "freq                                                 6083  ...  149637\n",
              "\n",
              "[4 rows x 6 columns]"
            ]
          },
          "metadata": {
            "tags": []
          },
          "execution_count": 64
        }
      ]
    },
    {
      "cell_type": "code",
      "metadata": {
        "id": "Hp_RxtUGSieY",
        "colab_type": "code",
        "colab": {
          "base_uri": "https://localhost:8080/",
          "height": 359
        },
        "outputId": "5fdecf23-f391-4e16-cf67-85ed660ad591"
      },
      "source": [
        "valDF[['age', 'client_id']].astype(str).groupby(['age'], as_index=False).count().sort_values(by='client_id', ascending=False)"
      ],
      "execution_count": 52,
      "outputs": [
        {
          "output_type": "execute_result",
          "data": {
            "text/html": [
              "<div>\n",
              "<style scoped>\n",
              "    .dataframe tbody tr th:only-of-type {\n",
              "        vertical-align: middle;\n",
              "    }\n",
              "\n",
              "    .dataframe tbody tr th {\n",
              "        vertical-align: top;\n",
              "    }\n",
              "\n",
              "    .dataframe thead th {\n",
              "        text-align: right;\n",
              "    }\n",
              "</style>\n",
              "<table border=\"1\" class=\"dataframe\">\n",
              "  <thead>\n",
              "    <tr style=\"text-align: right;\">\n",
              "      <th></th>\n",
              "      <th>age</th>\n",
              "      <th>client_id</th>\n",
              "    </tr>\n",
              "  </thead>\n",
              "  <tbody>\n",
              "    <tr>\n",
              "      <th>3</th>\n",
              "      <td>nan</td>\n",
              "      <td>275101</td>\n",
              "    </tr>\n",
              "    <tr>\n",
              "      <th>9</th>\n",
              "      <td>twenties</td>\n",
              "      <td>127535</td>\n",
              "    </tr>\n",
              "    <tr>\n",
              "      <th>8</th>\n",
              "      <td>thirties</td>\n",
              "      <td>97350</td>\n",
              "    </tr>\n",
              "    <tr>\n",
              "      <th>2</th>\n",
              "      <td>fourties</td>\n",
              "      <td>51810</td>\n",
              "    </tr>\n",
              "    <tr>\n",
              "      <th>1</th>\n",
              "      <td>fifties</td>\n",
              "      <td>32236</td>\n",
              "    </tr>\n",
              "    <tr>\n",
              "      <th>7</th>\n",
              "      <td>teens</td>\n",
              "      <td>27843</td>\n",
              "    </tr>\n",
              "    <tr>\n",
              "      <th>6</th>\n",
              "      <td>sixties</td>\n",
              "      <td>23863</td>\n",
              "    </tr>\n",
              "    <tr>\n",
              "      <th>5</th>\n",
              "      <td>seventies</td>\n",
              "      <td>7509</td>\n",
              "    </tr>\n",
              "    <tr>\n",
              "      <th>0</th>\n",
              "      <td>eighties</td>\n",
              "      <td>816</td>\n",
              "    </tr>\n",
              "    <tr>\n",
              "      <th>4</th>\n",
              "      <td>nineties</td>\n",
              "      <td>56</td>\n",
              "    </tr>\n",
              "  </tbody>\n",
              "</table>\n",
              "</div>"
            ],
            "text/plain": [
              "         age  client_id\n",
              "3        nan     275101\n",
              "9   twenties     127535\n",
              "8   thirties      97350\n",
              "2   fourties      51810\n",
              "1    fifties      32236\n",
              "7      teens      27843\n",
              "6    sixties      23863\n",
              "5  seventies       7509\n",
              "0   eighties        816\n",
              "4   nineties         56"
            ]
          },
          "metadata": {
            "tags": []
          },
          "execution_count": 52
        }
      ]
    },
    {
      "cell_type": "code",
      "metadata": {
        "id": "6bLfguUFSlm2",
        "colab_type": "code",
        "colab": {
          "base_uri": "https://localhost:8080/",
          "height": 607
        },
        "outputId": "e615996a-a619-4a25-d9d7-53a75c5dd38b"
      },
      "source": [
        "valDF[['accent', 'client_id']].astype(str).groupby(['accent'], as_index=False).count().sort_values(by='client_id', ascending=False)"
      ],
      "execution_count": 53,
      "outputs": [
        {
          "output_type": "execute_result",
          "data": {
            "text/html": [
              "<div>\n",
              "<style scoped>\n",
              "    .dataframe tbody tr th:only-of-type {\n",
              "        vertical-align: middle;\n",
              "    }\n",
              "\n",
              "    .dataframe tbody tr th {\n",
              "        vertical-align: top;\n",
              "    }\n",
              "\n",
              "    .dataframe thead th {\n",
              "        text-align: right;\n",
              "    }\n",
              "</style>\n",
              "<table border=\"1\" class=\"dataframe\">\n",
              "  <thead>\n",
              "    <tr style=\"text-align: right;\">\n",
              "      <th></th>\n",
              "      <th>accent</th>\n",
              "      <th>client_id</th>\n",
              "    </tr>\n",
              "  </thead>\n",
              "  <tbody>\n",
              "    <tr>\n",
              "      <th>9</th>\n",
              "      <td>nan</td>\n",
              "      <td>340000</td>\n",
              "    </tr>\n",
              "    <tr>\n",
              "      <th>16</th>\n",
              "      <td>us</td>\n",
              "      <td>149637</td>\n",
              "    </tr>\n",
              "    <tr>\n",
              "      <th>4</th>\n",
              "      <td>england</td>\n",
              "      <td>58607</td>\n",
              "    </tr>\n",
              "    <tr>\n",
              "      <th>6</th>\n",
              "      <td>indian</td>\n",
              "      <td>23966</td>\n",
              "    </tr>\n",
              "    <tr>\n",
              "      <th>1</th>\n",
              "      <td>australia</td>\n",
              "      <td>20172</td>\n",
              "    </tr>\n",
              "    <tr>\n",
              "      <th>3</th>\n",
              "      <td>canada</td>\n",
              "      <td>17586</td>\n",
              "    </tr>\n",
              "    <tr>\n",
              "      <th>11</th>\n",
              "      <td>other</td>\n",
              "      <td>10341</td>\n",
              "    </tr>\n",
              "    <tr>\n",
              "      <th>10</th>\n",
              "      <td>newzealand</td>\n",
              "      <td>6070</td>\n",
              "    </tr>\n",
              "    <tr>\n",
              "      <th>13</th>\n",
              "      <td>scotland</td>\n",
              "      <td>4382</td>\n",
              "    </tr>\n",
              "    <tr>\n",
              "      <th>0</th>\n",
              "      <td>african</td>\n",
              "      <td>4089</td>\n",
              "    </tr>\n",
              "    <tr>\n",
              "      <th>7</th>\n",
              "      <td>ireland</td>\n",
              "      <td>3424</td>\n",
              "    </tr>\n",
              "    <tr>\n",
              "      <th>12</th>\n",
              "      <td>philippines</td>\n",
              "      <td>1330</td>\n",
              "    </tr>\n",
              "    <tr>\n",
              "      <th>5</th>\n",
              "      <td>hongkong</td>\n",
              "      <td>1181</td>\n",
              "    </tr>\n",
              "    <tr>\n",
              "      <th>17</th>\n",
              "      <td>wales</td>\n",
              "      <td>1128</td>\n",
              "    </tr>\n",
              "    <tr>\n",
              "      <th>8</th>\n",
              "      <td>malaysia</td>\n",
              "      <td>843</td>\n",
              "    </tr>\n",
              "    <tr>\n",
              "      <th>14</th>\n",
              "      <td>singapore</td>\n",
              "      <td>702</td>\n",
              "    </tr>\n",
              "    <tr>\n",
              "      <th>2</th>\n",
              "      <td>bermuda</td>\n",
              "      <td>449</td>\n",
              "    </tr>\n",
              "    <tr>\n",
              "      <th>15</th>\n",
              "      <td>southatlandtic</td>\n",
              "      <td>212</td>\n",
              "    </tr>\n",
              "  </tbody>\n",
              "</table>\n",
              "</div>"
            ],
            "text/plain": [
              "            accent  client_id\n",
              "9              nan     340000\n",
              "16              us     149637\n",
              "4          england      58607\n",
              "6           indian      23966\n",
              "1        australia      20172\n",
              "3           canada      17586\n",
              "11           other      10341\n",
              "10      newzealand       6070\n",
              "13        scotland       4382\n",
              "0          african       4089\n",
              "7          ireland       3424\n",
              "12     philippines       1330\n",
              "5         hongkong       1181\n",
              "17           wales       1128\n",
              "8         malaysia        843\n",
              "14       singapore        702\n",
              "2          bermuda        449\n",
              "15  southatlandtic        212"
            ]
          },
          "metadata": {
            "tags": []
          },
          "execution_count": 53
        }
      ]
    },
    {
      "cell_type": "code",
      "metadata": {
        "id": "sBgNjmNm6AYG",
        "colab_type": "code",
        "colab": {
          "base_uri": "https://localhost:8080/",
          "height": 173
        },
        "outputId": "e1e005fb-065b-4530-f36a-a966022565df"
      },
      "source": [
        "valDF[['gender', 'client_id']].astype(str).groupby(['gender'], as_index=False).count().sort_values(by='client_id', ascending=False)"
      ],
      "execution_count": 54,
      "outputs": [
        {
          "output_type": "execute_result",
          "data": {
            "text/html": [
              "<div>\n",
              "<style scoped>\n",
              "    .dataframe tbody tr th:only-of-type {\n",
              "        vertical-align: middle;\n",
              "    }\n",
              "\n",
              "    .dataframe tbody tr th {\n",
              "        vertical-align: top;\n",
              "    }\n",
              "\n",
              "    .dataframe thead th {\n",
              "        text-align: right;\n",
              "    }\n",
              "</style>\n",
              "<table border=\"1\" class=\"dataframe\">\n",
              "  <thead>\n",
              "    <tr style=\"text-align: right;\">\n",
              "      <th></th>\n",
              "      <th>gender</th>\n",
              "      <th>client_id</th>\n",
              "    </tr>\n",
              "  </thead>\n",
              "  <tbody>\n",
              "    <tr>\n",
              "      <th>1</th>\n",
              "      <td>male</td>\n",
              "      <td>290987</td>\n",
              "    </tr>\n",
              "    <tr>\n",
              "      <th>2</th>\n",
              "      <td>nan</td>\n",
              "      <td>273074</td>\n",
              "    </tr>\n",
              "    <tr>\n",
              "      <th>0</th>\n",
              "      <td>female</td>\n",
              "      <td>72527</td>\n",
              "    </tr>\n",
              "    <tr>\n",
              "      <th>3</th>\n",
              "      <td>other</td>\n",
              "      <td>7531</td>\n",
              "    </tr>\n",
              "  </tbody>\n",
              "</table>\n",
              "</div>"
            ],
            "text/plain": [
              "   gender  client_id\n",
              "1    male     290987\n",
              "2     nan     273074\n",
              "0  female      72527\n",
              "3   other       7531"
            ]
          },
          "metadata": {
            "tags": []
          },
          "execution_count": 54
        }
      ]
    },
    {
      "cell_type": "code",
      "metadata": {
        "id": "0WRmWExg6SWi",
        "colab_type": "code",
        "colab": {
          "base_uri": "https://localhost:8080/",
          "height": 224
        },
        "outputId": "ca350bec-315a-4161-a4d3-194687e6c61a"
      },
      "source": [
        "pd.crosstab(valDF['gender'].astype(str), valDF['accent'].astype(str))"
      ],
      "execution_count": 55,
      "outputs": [
        {
          "output_type": "execute_result",
          "data": {
            "text/html": [
              "<div>\n",
              "<style scoped>\n",
              "    .dataframe tbody tr th:only-of-type {\n",
              "        vertical-align: middle;\n",
              "    }\n",
              "\n",
              "    .dataframe tbody tr th {\n",
              "        vertical-align: top;\n",
              "    }\n",
              "\n",
              "    .dataframe thead th {\n",
              "        text-align: right;\n",
              "    }\n",
              "</style>\n",
              "<table border=\"1\" class=\"dataframe\">\n",
              "  <thead>\n",
              "    <tr style=\"text-align: right;\">\n",
              "      <th>accent</th>\n",
              "      <th>african</th>\n",
              "      <th>australia</th>\n",
              "      <th>bermuda</th>\n",
              "      <th>canada</th>\n",
              "      <th>england</th>\n",
              "      <th>hongkong</th>\n",
              "      <th>indian</th>\n",
              "      <th>ireland</th>\n",
              "      <th>malaysia</th>\n",
              "      <th>nan</th>\n",
              "      <th>newzealand</th>\n",
              "      <th>other</th>\n",
              "      <th>philippines</th>\n",
              "      <th>scotland</th>\n",
              "      <th>singapore</th>\n",
              "      <th>southatlandtic</th>\n",
              "      <th>us</th>\n",
              "      <th>wales</th>\n",
              "    </tr>\n",
              "    <tr>\n",
              "      <th>gender</th>\n",
              "      <th></th>\n",
              "      <th></th>\n",
              "      <th></th>\n",
              "      <th></th>\n",
              "      <th></th>\n",
              "      <th></th>\n",
              "      <th></th>\n",
              "      <th></th>\n",
              "      <th></th>\n",
              "      <th></th>\n",
              "      <th></th>\n",
              "      <th></th>\n",
              "      <th></th>\n",
              "      <th></th>\n",
              "      <th></th>\n",
              "      <th></th>\n",
              "      <th></th>\n",
              "      <th></th>\n",
              "    </tr>\n",
              "  </thead>\n",
              "  <tbody>\n",
              "    <tr>\n",
              "      <th>female</th>\n",
              "      <td>957</td>\n",
              "      <td>2867</td>\n",
              "      <td>226</td>\n",
              "      <td>6179</td>\n",
              "      <td>8238</td>\n",
              "      <td>30</td>\n",
              "      <td>6178</td>\n",
              "      <td>449</td>\n",
              "      <td>284</td>\n",
              "      <td>11758</td>\n",
              "      <td>312</td>\n",
              "      <td>703</td>\n",
              "      <td>500</td>\n",
              "      <td>1061</td>\n",
              "      <td>79</td>\n",
              "      <td>0</td>\n",
              "      <td>32615</td>\n",
              "      <td>91</td>\n",
              "    </tr>\n",
              "    <tr>\n",
              "      <th>male</th>\n",
              "      <td>3108</td>\n",
              "      <td>13918</td>\n",
              "      <td>137</td>\n",
              "      <td>11125</td>\n",
              "      <td>49831</td>\n",
              "      <td>1151</td>\n",
              "      <td>17740</td>\n",
              "      <td>2717</td>\n",
              "      <td>559</td>\n",
              "      <td>57765</td>\n",
              "      <td>5758</td>\n",
              "      <td>9474</td>\n",
              "      <td>830</td>\n",
              "      <td>3184</td>\n",
              "      <td>619</td>\n",
              "      <td>212</td>\n",
              "      <td>111829</td>\n",
              "      <td>1030</td>\n",
              "    </tr>\n",
              "    <tr>\n",
              "      <th>nan</th>\n",
              "      <td>24</td>\n",
              "      <td>450</td>\n",
              "      <td>86</td>\n",
              "      <td>4</td>\n",
              "      <td>170</td>\n",
              "      <td>0</td>\n",
              "      <td>48</td>\n",
              "      <td>4</td>\n",
              "      <td>0</td>\n",
              "      <td>270074</td>\n",
              "      <td>0</td>\n",
              "      <td>139</td>\n",
              "      <td>0</td>\n",
              "      <td>0</td>\n",
              "      <td>4</td>\n",
              "      <td>0</td>\n",
              "      <td>2071</td>\n",
              "      <td>0</td>\n",
              "    </tr>\n",
              "    <tr>\n",
              "      <th>other</th>\n",
              "      <td>0</td>\n",
              "      <td>2937</td>\n",
              "      <td>0</td>\n",
              "      <td>278</td>\n",
              "      <td>368</td>\n",
              "      <td>0</td>\n",
              "      <td>0</td>\n",
              "      <td>254</td>\n",
              "      <td>0</td>\n",
              "      <td>403</td>\n",
              "      <td>0</td>\n",
              "      <td>25</td>\n",
              "      <td>0</td>\n",
              "      <td>137</td>\n",
              "      <td>0</td>\n",
              "      <td>0</td>\n",
              "      <td>3122</td>\n",
              "      <td>7</td>\n",
              "    </tr>\n",
              "  </tbody>\n",
              "</table>\n",
              "</div>"
            ],
            "text/plain": [
              "accent  african  australia  bermuda  ...  southatlandtic      us  wales\n",
              "gender                               ...                               \n",
              "female      957       2867      226  ...               0   32615     91\n",
              "male       3108      13918      137  ...             212  111829   1030\n",
              "nan          24        450       86  ...               0    2071      0\n",
              "other         0       2937        0  ...               0    3122      7\n",
              "\n",
              "[4 rows x 18 columns]"
            ]
          },
          "metadata": {
            "tags": []
          },
          "execution_count": 55
        }
      ]
    },
    {
      "cell_type": "code",
      "metadata": {
        "id": "znDBykdNmwxu",
        "colab_type": "code",
        "colab": {
          "base_uri": "https://localhost:8080/",
          "height": 297
        },
        "outputId": "cef66e97-3ffd-4914-d495-ec7c9d0dfd5b"
      },
      "source": [
        "valDF.describe()"
      ],
      "execution_count": 14,
      "outputs": [
        {
          "output_type": "execute_result",
          "data": {
            "text/html": [
              "<div>\n",
              "<style scoped>\n",
              "    .dataframe tbody tr th:only-of-type {\n",
              "        vertical-align: middle;\n",
              "    }\n",
              "\n",
              "    .dataframe tbody tr th {\n",
              "        vertical-align: top;\n",
              "    }\n",
              "\n",
              "    .dataframe thead th {\n",
              "        text-align: right;\n",
              "    }\n",
              "</style>\n",
              "<table border=\"1\" class=\"dataframe\">\n",
              "  <thead>\n",
              "    <tr style=\"text-align: right;\">\n",
              "      <th></th>\n",
              "      <th>up_votes</th>\n",
              "      <th>down_votes</th>\n",
              "    </tr>\n",
              "  </thead>\n",
              "  <tbody>\n",
              "    <tr>\n",
              "      <th>count</th>\n",
              "      <td>644119.000000</td>\n",
              "      <td>644119.000000</td>\n",
              "    </tr>\n",
              "    <tr>\n",
              "      <th>mean</th>\n",
              "      <td>2.518237</td>\n",
              "      <td>0.185790</td>\n",
              "    </tr>\n",
              "    <tr>\n",
              "      <th>std</th>\n",
              "      <td>6.495008</td>\n",
              "      <td>1.002318</td>\n",
              "    </tr>\n",
              "    <tr>\n",
              "      <th>min</th>\n",
              "      <td>2.000000</td>\n",
              "      <td>0.000000</td>\n",
              "    </tr>\n",
              "    <tr>\n",
              "      <th>25%</th>\n",
              "      <td>2.000000</td>\n",
              "      <td>0.000000</td>\n",
              "    </tr>\n",
              "    <tr>\n",
              "      <th>50%</th>\n",
              "      <td>2.000000</td>\n",
              "      <td>0.000000</td>\n",
              "    </tr>\n",
              "    <tr>\n",
              "      <th>75%</th>\n",
              "      <td>3.000000</td>\n",
              "      <td>0.000000</td>\n",
              "    </tr>\n",
              "    <tr>\n",
              "      <th>max</th>\n",
              "      <td>1614.000000</td>\n",
              "      <td>529.000000</td>\n",
              "    </tr>\n",
              "  </tbody>\n",
              "</table>\n",
              "</div>"
            ],
            "text/plain": [
              "            up_votes     down_votes\n",
              "count  644119.000000  644119.000000\n",
              "mean        2.518237       0.185790\n",
              "std         6.495008       1.002318\n",
              "min         2.000000       0.000000\n",
              "25%         2.000000       0.000000\n",
              "50%         2.000000       0.000000\n",
              "75%         3.000000       0.000000\n",
              "max      1614.000000     529.000000"
            ]
          },
          "metadata": {
            "tags": []
          },
          "execution_count": 14
        }
      ]
    },
    {
      "cell_type": "code",
      "metadata": {
        "id": "CMyFssQZ6bzk",
        "colab_type": "code",
        "colab": {
          "base_uri": "https://localhost:8080/",
          "height": 265
        },
        "outputId": "eacd1bcc-d20d-4761-d171-ffd8bc9de68b"
      },
      "source": [
        "plt.hist(valDF['up_votes'], bins=100)\n",
        "plt.show()"
      ],
      "execution_count": 60,
      "outputs": [
        {
          "output_type": "display_data",
          "data": {
            "image/png": "[encoded data removed]",
            "text/plain": [
              "<Figure size 432x288 with 1 Axes>"
            ]
          },
          "metadata": {
            "tags": []
          }
        }
      ]
    },
    {
      "cell_type": "code",
      "metadata": {
        "id": "cD63Fc967BvN",
        "colab_type": "code",
        "colab": {
          "base_uri": "https://localhost:8080/",
          "height": 265
        },
        "outputId": "5a4274dc-31b0-4bf9-f3d2-69b41bc3d57b"
      },
      "source": [
        "plt.hist(valDF['down_votes'], bins=100)\n",
        "plt.show()"
      ],
      "execution_count": 62,
      "outputs": [
        {
          "output_type": "display_data",
          "data": {
            "image/png": "[encoded data removed]",
            "text/plain": [
              "<Figure size 432x288 with 1 Axes>"
            ]
          },
          "metadata": {
            "tags": []
          }
        }
      ]
    },
    {
      "cell_type": "markdown",
      "metadata": {
        "id": "wUVxtpXiDXxK",
        "colab_type": "text"
      },
      "source": [
        "## EDA on partitioned data"
      ]
    },
    {
      "cell_type": "markdown",
      "metadata": {
        "id": "hEdMu7cup9Du",
        "colab_type": "text"
      },
      "source": [
        "### Subset and parition data"
      ]
    },
    {
      "cell_type": "code",
      "metadata": {
        "id": "Ma9GnswCky7h",
        "colab_type": "code",
        "colab": {}
      },
      "source": [
        "valDF = pd.read_csv(loc + 'validated.tsv', sep='\\t')"
      ],
      "execution_count": 0,
      "outputs": []
    },
    {
      "cell_type": "code",
      "metadata": {
        "id": "5dfx0d63lwcO",
        "colab_type": "code",
        "colab": {}
      },
      "source": [
        "validAccents = ['us', 'canada', 'england', 'indian', 'scotland', 'australia']\n",
        "validGenders = ['male', 'female']\n",
        "\n",
        "cleanedDF = valDF.loc[valDF.accent.isin(validAccents) & valDF.gender.isin(validGenders), ]"
      ],
      "execution_count": 0,
      "outputs": []
    },
    {
      "cell_type": "markdown",
      "metadata": {
        "id": "UatkC4X4piII",
        "colab_type": "text"
      },
      "source": [
        "### Number of sentences or clips by age"
      ]
    },
    {
      "cell_type": "code",
      "metadata": {
        "id": "54EDWlcMnAxR",
        "colab_type": "code",
        "colab": {
          "base_uri": "https://localhost:8080/",
          "height": 390
        },
        "outputId": "96780721-9f26-4c51-a63a-ef0d6a0b3415"
      },
      "source": [
        "cleanedDF[['age', 'client_id']].astype(str).groupby(['age'], as_index=True).nunique().sort_values(by='client_id', ascending=False)"
      ],
      "execution_count": 30,
      "outputs": [
        {
          "output_type": "execute_result",
          "data": {
            "text/html": [
              "<div>\n",
              "<style scoped>\n",
              "    .dataframe tbody tr th:only-of-type {\n",
              "        vertical-align: middle;\n",
              "    }\n",
              "\n",
              "    .dataframe tbody tr th {\n",
              "        vertical-align: top;\n",
              "    }\n",
              "\n",
              "    .dataframe thead th {\n",
              "        text-align: right;\n",
              "    }\n",
              "</style>\n",
              "<table border=\"1\" class=\"dataframe\">\n",
              "  <thead>\n",
              "    <tr style=\"text-align: right;\">\n",
              "      <th></th>\n",
              "      <th>age</th>\n",
              "      <th>client_id</th>\n",
              "    </tr>\n",
              "    <tr>\n",
              "      <th>age</th>\n",
              "      <th></th>\n",
              "      <th></th>\n",
              "    </tr>\n",
              "  </thead>\n",
              "  <tbody>\n",
              "    <tr>\n",
              "      <th>twenties</th>\n",
              "      <td>1</td>\n",
              "      <td>2170</td>\n",
              "    </tr>\n",
              "    <tr>\n",
              "      <th>thirties</th>\n",
              "      <td>1</td>\n",
              "      <td>1205</td>\n",
              "    </tr>\n",
              "    <tr>\n",
              "      <th>fourties</th>\n",
              "      <td>1</td>\n",
              "      <td>640</td>\n",
              "    </tr>\n",
              "    <tr>\n",
              "      <th>teens</th>\n",
              "      <td>1</td>\n",
              "      <td>628</td>\n",
              "    </tr>\n",
              "    <tr>\n",
              "      <th>fifties</th>\n",
              "      <td>1</td>\n",
              "      <td>409</td>\n",
              "    </tr>\n",
              "    <tr>\n",
              "      <th>sixties</th>\n",
              "      <td>1</td>\n",
              "      <td>228</td>\n",
              "    </tr>\n",
              "    <tr>\n",
              "      <th>seventies</th>\n",
              "      <td>1</td>\n",
              "      <td>94</td>\n",
              "    </tr>\n",
              "    <tr>\n",
              "      <th>nan</th>\n",
              "      <td>1</td>\n",
              "      <td>32</td>\n",
              "    </tr>\n",
              "    <tr>\n",
              "      <th>eighties</th>\n",
              "      <td>1</td>\n",
              "      <td>11</td>\n",
              "    </tr>\n",
              "    <tr>\n",
              "      <th>nineties</th>\n",
              "      <td>1</td>\n",
              "      <td>2</td>\n",
              "    </tr>\n",
              "  </tbody>\n",
              "</table>\n",
              "</div>"
            ],
            "text/plain": [
              "           age  client_id\n",
              "age                      \n",
              "twenties     1       2170\n",
              "thirties     1       1205\n",
              "fourties     1        640\n",
              "teens        1        628\n",
              "fifties      1        409\n",
              "sixties      1        228\n",
              "seventies    1         94\n",
              "nan          1         32\n",
              "eighties     1         11\n",
              "nineties     1          2"
            ]
          },
          "metadata": {
            "tags": []
          },
          "execution_count": 30
        }
      ]
    },
    {
      "cell_type": "markdown",
      "metadata": {
        "id": "dAPBnVDPqHOT",
        "colab_type": "text"
      },
      "source": [
        "### Number of unique speaker by age"
      ]
    },
    {
      "cell_type": "code",
      "metadata": {
        "id": "tsLkd1DXqJlr",
        "colab_type": "code",
        "colab": {
          "base_uri": "https://localhost:8080/",
          "height": 359
        },
        "outputId": "07cd8438-142e-4c0c-835f-e06c7853e1e5"
      },
      "source": [
        "cleanedDF[['age', 'client_id']].astype(str).groupby(['age'], as_index=False).count().sort_values(by='client_id', ascending=False)"
      ],
      "execution_count": 25,
      "outputs": [
        {
          "output_type": "execute_result",
          "data": {
            "text/html": [
              "<div>\n",
              "<style scoped>\n",
              "    .dataframe tbody tr th:only-of-type {\n",
              "        vertical-align: middle;\n",
              "    }\n",
              "\n",
              "    .dataframe tbody tr th {\n",
              "        vertical-align: top;\n",
              "    }\n",
              "\n",
              "    .dataframe thead th {\n",
              "        text-align: right;\n",
              "    }\n",
              "</style>\n",
              "<table border=\"1\" class=\"dataframe\">\n",
              "  <thead>\n",
              "    <tr style=\"text-align: right;\">\n",
              "      <th></th>\n",
              "      <th>age</th>\n",
              "      <th>client_id</th>\n",
              "    </tr>\n",
              "  </thead>\n",
              "  <tbody>\n",
              "    <tr>\n",
              "      <th>9</th>\n",
              "      <td>twenties</td>\n",
              "      <td>83886</td>\n",
              "    </tr>\n",
              "    <tr>\n",
              "      <th>8</th>\n",
              "      <td>thirties</td>\n",
              "      <td>71051</td>\n",
              "    </tr>\n",
              "    <tr>\n",
              "      <th>2</th>\n",
              "      <td>fourties</td>\n",
              "      <td>38186</td>\n",
              "    </tr>\n",
              "    <tr>\n",
              "      <th>1</th>\n",
              "      <td>fifties</td>\n",
              "      <td>26230</td>\n",
              "    </tr>\n",
              "    <tr>\n",
              "      <th>6</th>\n",
              "      <td>sixties</td>\n",
              "      <td>20903</td>\n",
              "    </tr>\n",
              "    <tr>\n",
              "      <th>7</th>\n",
              "      <td>teens</td>\n",
              "      <td>17532</td>\n",
              "    </tr>\n",
              "    <tr>\n",
              "      <th>5</th>\n",
              "      <td>seventies</td>\n",
              "      <td>3952</td>\n",
              "    </tr>\n",
              "    <tr>\n",
              "      <th>3</th>\n",
              "      <td>nan</td>\n",
              "      <td>2326</td>\n",
              "    </tr>\n",
              "    <tr>\n",
              "      <th>0</th>\n",
              "      <td>eighties</td>\n",
              "      <td>643</td>\n",
              "    </tr>\n",
              "    <tr>\n",
              "      <th>4</th>\n",
              "      <td>nineties</td>\n",
              "      <td>56</td>\n",
              "    </tr>\n",
              "  </tbody>\n",
              "</table>\n",
              "</div>"
            ],
            "text/plain": [
              "         age  client_id\n",
              "9   twenties      83886\n",
              "8   thirties      71051\n",
              "2   fourties      38186\n",
              "1    fifties      26230\n",
              "6    sixties      20903\n",
              "7      teens      17532\n",
              "5  seventies       3952\n",
              "3        nan       2326\n",
              "0   eighties        643\n",
              "4   nineties         56"
            ]
          },
          "metadata": {
            "tags": []
          },
          "execution_count": 25
        }
      ]
    },
    {
      "cell_type": "markdown",
      "metadata": {
        "id": "bK3bLRGTpSF8",
        "colab_type": "text"
      },
      "source": [
        "### Total number of sentences or clips by *gender* and *accent*:"
      ]
    },
    {
      "cell_type": "code",
      "metadata": {
        "id": "fwo0GfnioUMY",
        "colab_type": "code",
        "colab": {
          "base_uri": "https://localhost:8080/",
          "height": 173
        },
        "outputId": "719e3da3-f96a-4568-a7d5-3898da69c73c"
      },
      "source": [
        "pd.crosstab(cleanedDF['gender'].astype(str), \n",
        "            cleanedDF['accent'].astype(str),\n",
        "            margins=True)"
      ],
      "execution_count": 20,
      "outputs": [
        {
          "output_type": "execute_result",
          "data": {
            "text/html": [
              "<div>\n",
              "<style scoped>\n",
              "    .dataframe tbody tr th:only-of-type {\n",
              "        vertical-align: middle;\n",
              "    }\n",
              "\n",
              "    .dataframe tbody tr th {\n",
              "        vertical-align: top;\n",
              "    }\n",
              "\n",
              "    .dataframe thead th {\n",
              "        text-align: right;\n",
              "    }\n",
              "</style>\n",
              "<table border=\"1\" class=\"dataframe\">\n",
              "  <thead>\n",
              "    <tr style=\"text-align: right;\">\n",
              "      <th>accent</th>\n",
              "      <th>australia</th>\n",
              "      <th>canada</th>\n",
              "      <th>england</th>\n",
              "      <th>indian</th>\n",
              "      <th>scotland</th>\n",
              "      <th>us</th>\n",
              "      <th>All</th>\n",
              "    </tr>\n",
              "    <tr>\n",
              "      <th>gender</th>\n",
              "      <th></th>\n",
              "      <th></th>\n",
              "      <th></th>\n",
              "      <th></th>\n",
              "      <th></th>\n",
              "      <th></th>\n",
              "      <th></th>\n",
              "    </tr>\n",
              "  </thead>\n",
              "  <tbody>\n",
              "    <tr>\n",
              "      <th>female</th>\n",
              "      <td>2867</td>\n",
              "      <td>6179</td>\n",
              "      <td>8238</td>\n",
              "      <td>6178</td>\n",
              "      <td>1061</td>\n",
              "      <td>32615</td>\n",
              "      <td>57138</td>\n",
              "    </tr>\n",
              "    <tr>\n",
              "      <th>male</th>\n",
              "      <td>13918</td>\n",
              "      <td>11125</td>\n",
              "      <td>49831</td>\n",
              "      <td>17740</td>\n",
              "      <td>3184</td>\n",
              "      <td>111829</td>\n",
              "      <td>207627</td>\n",
              "    </tr>\n",
              "    <tr>\n",
              "      <th>All</th>\n",
              "      <td>16785</td>\n",
              "      <td>17304</td>\n",
              "      <td>58069</td>\n",
              "      <td>23918</td>\n",
              "      <td>4245</td>\n",
              "      <td>144444</td>\n",
              "      <td>264765</td>\n",
              "    </tr>\n",
              "  </tbody>\n",
              "</table>\n",
              "</div>"
            ],
            "text/plain": [
              "accent  australia  canada  england  indian  scotland      us     All\n",
              "gender                                                              \n",
              "female       2867    6179     8238    6178      1061   32615   57138\n",
              "male        13918   11125    49831   17740      3184  111829  207627\n",
              "All         16785   17304    58069   23918      4245  144444  264765"
            ]
          },
          "metadata": {
            "tags": []
          },
          "execution_count": 20
        }
      ]
    },
    {
      "cell_type": "markdown",
      "metadata": {
        "id": "WC-ZQWk5peRz",
        "colab_type": "text"
      },
      "source": [
        "### Unique number of speakers by *gender* and *accent*:"
      ]
    },
    {
      "cell_type": "code",
      "metadata": {
        "id": "t_JTkJcbnfWp",
        "colab_type": "code",
        "colab": {
          "base_uri": "https://localhost:8080/",
          "height": 173
        },
        "outputId": "4913c080-9d7a-4be7-82a7-ea25d4a18057"
      },
      "source": [
        "pd.crosstab(cleanedDF['gender'].astype(str), \n",
        "            cleanedDF['accent'].astype(str), \n",
        "            margins=True, \n",
        "            values=cleanedDF['client_id'], \n",
        "            aggfunc=pd.Series.nunique)"
      ],
      "execution_count": 18,
      "outputs": [
        {
          "output_type": "execute_result",
          "data": {
            "text/html": [
              "<div>\n",
              "<style scoped>\n",
              "    .dataframe tbody tr th:only-of-type {\n",
              "        vertical-align: middle;\n",
              "    }\n",
              "\n",
              "    .dataframe tbody tr th {\n",
              "        vertical-align: top;\n",
              "    }\n",
              "\n",
              "    .dataframe thead th {\n",
              "        text-align: right;\n",
              "    }\n",
              "</style>\n",
              "<table border=\"1\" class=\"dataframe\">\n",
              "  <thead>\n",
              "    <tr style=\"text-align: right;\">\n",
              "      <th>accent</th>\n",
              "      <th>australia</th>\n",
              "      <th>canada</th>\n",
              "      <th>england</th>\n",
              "      <th>indian</th>\n",
              "      <th>scotland</th>\n",
              "      <th>us</th>\n",
              "      <th>All</th>\n",
              "    </tr>\n",
              "    <tr>\n",
              "      <th>gender</th>\n",
              "      <th></th>\n",
              "      <th></th>\n",
              "      <th></th>\n",
              "      <th></th>\n",
              "      <th></th>\n",
              "      <th></th>\n",
              "      <th></th>\n",
              "    </tr>\n",
              "  </thead>\n",
              "  <tbody>\n",
              "    <tr>\n",
              "      <th>female</th>\n",
              "      <td>61</td>\n",
              "      <td>102</td>\n",
              "      <td>145</td>\n",
              "      <td>85</td>\n",
              "      <td>8</td>\n",
              "      <td>630</td>\n",
              "      <td>1031</td>\n",
              "    </tr>\n",
              "    <tr>\n",
              "      <th>male</th>\n",
              "      <td>206</td>\n",
              "      <td>260</td>\n",
              "      <td>820</td>\n",
              "      <td>718</td>\n",
              "      <td>61</td>\n",
              "      <td>2323</td>\n",
              "      <td>4388</td>\n",
              "    </tr>\n",
              "    <tr>\n",
              "      <th>All</th>\n",
              "      <td>267</td>\n",
              "      <td>362</td>\n",
              "      <td>965</td>\n",
              "      <td>803</td>\n",
              "      <td>69</td>\n",
              "      <td>2953</td>\n",
              "      <td>5419</td>\n",
              "    </tr>\n",
              "  </tbody>\n",
              "</table>\n",
              "</div>"
            ],
            "text/plain": [
              "accent  australia  canada  england  indian  scotland    us   All\n",
              "gender                                                          \n",
              "female         61     102      145      85         8   630  1031\n",
              "male          206     260      820     718        61  2323  4388\n",
              "All           267     362      965     803        69  2953  5419"
            ]
          },
          "metadata": {
            "tags": []
          },
          "execution_count": 18
        }
      ]
    },
    {
      "cell_type": "markdown",
      "metadata": {
        "id": "oOX_6KQo0Kjf",
        "colab_type": "text"
      },
      "source": [
        "### Write subsetted paths to *txt*"
      ]
    },
    {
      "cell_type": "code",
      "metadata": {
        "id": "xUvDECj2yV2f",
        "colab_type": "code",
        "colab": {}
      },
      "source": [
        "with open(loc + 'fnames.txt', 'w') as f:\n",
        "  f.write(\"mkdir -p en/selected_clips/\\n\")\n",
        "  for path in cleanedDF['path'][5:]:\n",
        "    f.write(\"cp -v en/clips/%s en/selected_clips/\\n\" % path)"
      ],
      "execution_count": 0,
      "outputs": []
    },
    {
      "cell_type": "code",
      "metadata": {
        "id": "_61I4ba37jqB",
        "colab_type": "code",
        "colab": {
          "base_uri": "https://localhost:8080/",
          "height": 164
        },
        "outputId": "636803d2-5827-46f1-9a52-9fedb1b5592b"
      },
      "source": [
        "cleanedDF['path'][5:]"
      ],
      "execution_count": 1,
      "outputs": [
        {
          "output_type": "error",
          "ename": "NameError",
          "evalue": "ignored",
          "traceback": [
            "\u001b[0;31m---------------------------------------------------------------------------\u001b[0m",
            "\u001b[0;31mNameError\u001b[0m                                 Traceback (most recent call last)",
            "\u001b[0;32m<ipython-input-1-0938033c4ada>\u001b[0m in \u001b[0;36m<module>\u001b[0;34m()\u001b[0m\n\u001b[0;32m----> 1\u001b[0;31m \u001b[0mcleanedDF\u001b[0m\u001b[0;34m[\u001b[0m\u001b[0;34m'path'\u001b[0m\u001b[0;34m]\u001b[0m\u001b[0;34m[\u001b[0m\u001b[0;36m5\u001b[0m\u001b[0;34m:\u001b[0m\u001b[0;34m]\u001b[0m\u001b[0;34m\u001b[0m\u001b[0;34m\u001b[0m\u001b[0m\n\u001b[0m",
            "\u001b[0;31mNameError\u001b[0m: name 'cleanedDF' is not defined"
          ]
        }
      ]
    }
  ]
}