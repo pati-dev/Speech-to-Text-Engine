{
 "cells": [
  {
   "cell_type": "code",
   "execution_count": 9,
   "metadata": {},
   "outputs": [
    {
     "data": {
      "application/vnd.jupyter.widget-view+json": {
       "model_id": "14a761b28193455fb5c7bbb923b3460e",
       "version_major": 2,
       "version_minor": 0
      },
      "text/plain": [
       "HBox(children=(IntProgress(value=0, max=41090), HTML(value='')))"
      ]
     },
     "metadata": {},
     "output_type": "display_data"
    },
    {
     "name": "stdout",
     "output_type": "stream",
     "text": [
      "\n"
     ]
    },
    {
     "data": {
      "application/vnd.jupyter.widget-view+json": {
       "model_id": "baef9d2e97124f2896fca4cf4f43f31d",
       "version_major": 2,
       "version_minor": 0
      },
      "text/plain": [
       "HBox(children=(IntProgress(value=0, max=165841), HTML(value='')))"
      ]
     },
     "metadata": {},
     "output_type": "display_data"
    },
    {
     "name": "stdout",
     "output_type": "stream",
     "text": [
      "\n"
     ]
    }
   ],
   "source": [
    "import pandas as pd\n",
    "import numpy as np\n",
    "import torch\n",
    "from tqdm.auto import tqdm\n",
    "\n",
    "from os import path, listdir\n",
    "from collections import Counter\n",
    "import ftfy\n",
    "import string\n",
    "\n",
    "allowed = string.ascii_lowercase + string.digits + \" $&%+/-'\"\n",
    "allowed_set = set(allowed)\n",
    "\n",
    "def clean(s):\n",
    "  s = ftfy.fix_text(s, normalization='NFKD').lower()\n",
    "  s = s.encode('ascii','ignore').decode('ascii')\n",
    "  return ''.join(c for c in s if c in allowed_set)\n",
    "\n",
    "\n",
    "char2index = { c: i for i, c in enumerate('<>' + allowed ) }\n",
    "\n",
    "class CommonVoiceDataset(torch.utils.data.Dataset):\n",
    "  def __init__(self, csv_file, root_dir):\n",
    "    self.csv_file = csv_file\n",
    "    self.table = pd.read_csv(csv_file)\n",
    "    self.root_dir = root_dir\n",
    "    file_names = []\n",
    "    mfccs = []\n",
    "    for f in tqdm(sorted(listdir(root_dir))):\n",
    "        mfcc = torch.Tensor(np.load(path.join(self.root_dir, f)))\n",
    "        if len(mfcc) > 300:\n",
    "            continue\n",
    "        mfccs.append(mfcc)\n",
    "        file_names.append(f)\n",
    "        \n",
    "    self.mfccs = mfccs\n",
    "    self.file_names = file_names\n",
    "    \n",
    "  def __getitem__(self, i):\n",
    "    mfcc = self.mfccs[i] # torch.Tensor(np.load(path.join(self.root_dir, self.file_names[i])))\n",
    "    row = self.table[self.table.path == self.file_names[i].replace('.npy', '')]\n",
    "    [sentence], [age], [accent], [gender] = row.sentence, row.age, row.accent, row.gender\n",
    "    sentence = '<' + clean(sentence) + '>'\n",
    "    sentence = torch.Tensor([char2index[c] for c in sentence])\n",
    "    return mfcc, torch.tensor([len(mfcc)]), sentence, torch.tensor([len(sentence)])\n",
    "\n",
    "  def __len__(self):\n",
    "    return len(self.file_names)\n",
    "\n",
    "def collate(batch):\n",
    "  inp, inp_len, op, op_len = zip(*batch)\n",
    "  inp = torch.nn.utils.rnn.pad_sequence(inp, batch_first=True, padding_value=len(char2index))\n",
    "  inp_len = torch.stack(inp_len)\n",
    "  op = torch.cat(op) \n",
    "  op_len = torch.stack(op_len)\n",
    "  return inp, inp_len, op, op_len \n",
    "\n",
    "\n",
    "import torch.nn.init as init\n",
    "\n",
    "def weight_init(m):\n",
    "  if isinstance(m, nn.Linear):\n",
    "    init.xavier_normal_(m.weight.data)\n",
    "    init.normal_(m.bias.data)\n",
    "  elif isinstance(m, nn.LSTM):\n",
    "    for param in m.parameters():\n",
    "      if len(param.shape) >= 2:\n",
    "        init.orthogonal_(param.data)\n",
    "      else:\n",
    "        init.normal_(param.data)\n",
    "\n",
    "valid_data = CommonVoiceDataset('finalVal.csv', 'validation')\n",
    "train_data = CommonVoiceDataset('finalTrain.csv', 'train')"
   ]
  },
  {
   "cell_type": "code",
   "execution_count": 10,
   "metadata": {},
   "outputs": [
    {
     "data": {
      "text/plain": [
       "{'<': 0,\n",
       " '>': 1,\n",
       " 'a': 2,\n",
       " 'b': 3,\n",
       " 'c': 4,\n",
       " 'd': 5,\n",
       " 'e': 6,\n",
       " 'f': 7,\n",
       " 'g': 8,\n",
       " 'h': 9,\n",
       " 'i': 10,\n",
       " 'j': 11,\n",
       " 'k': 12,\n",
       " 'l': 13,\n",
       " 'm': 14,\n",
       " 'n': 15,\n",
       " 'o': 16,\n",
       " 'p': 17,\n",
       " 'q': 18,\n",
       " 'r': 19,\n",
       " 's': 20,\n",
       " 't': 21,\n",
       " 'u': 22,\n",
       " 'v': 23,\n",
       " 'w': 24,\n",
       " 'x': 25,\n",
       " 'y': 26,\n",
       " 'z': 27,\n",
       " '0': 28,\n",
       " '1': 29,\n",
       " '2': 30,\n",
       " '3': 31,\n",
       " '4': 32,\n",
       " '5': 33,\n",
       " '6': 34,\n",
       " '7': 35,\n",
       " '8': 36,\n",
       " '9': 37,\n",
       " ' ': 38,\n",
       " '$': 39,\n",
       " '&': 40,\n",
       " '%': 41,\n",
       " '+': 42,\n",
       " '/': 43,\n",
       " '-': 44,\n",
       " \"'\": 45}"
      ]
     },
     "execution_count": 10,
     "metadata": {},
     "output_type": "execute_result"
    }
   ],
   "source": [
    "char2index"
   ]
  },
  {
   "cell_type": "code",
   "execution_count": 11,
   "metadata": {},
   "outputs": [
    {
     "data": {
      "image/png": "[encoded data removed]",
      "text/plain": [
       "<Figure size 432x288 with 1 Axes>"
      ]
     },
     "metadata": {
      "needs_background": "light"
     },
     "output_type": "display_data"
    }
   ],
   "source": [
    "import matplotlib.pyplot as plt\n",
    "%matplotlib inline\n",
    "\n",
    "plt.hist([len(m) for m in train_data.mfccs], bins=50);"
   ]
  },
  {
   "cell_type": "code",
   "execution_count": 12,
   "metadata": {},
   "outputs": [],
   "source": [
    "import torch.nn as nn\n",
    "from torch.autograd import Variable\n",
    "from tqdm.auto import tqdm\n",
    "import itertools\n",
    "\n",
    "from torch.optim.lr_scheduler import ExponentialLR\n",
    "\n",
    "\n",
    "class SpeechNet(nn.Module):\n",
    "  def __init__(self, device, input_size=20, output_size=len(char2index)+1, num_layers=2, hidden_size=256):\n",
    "    self.device = device\n",
    "    self.num_layers = num_layers\n",
    "    self.hidden_size = hidden_size\n",
    "    super(SpeechNet, self).__init__()\n",
    "    self.lstm = nn.LSTM(input_size=input_size, hidden_size=hidden_size, num_layers=num_layers, batch_first=True)\n",
    "    self.fc1 = nn.Linear(hidden_size, output_size)\n",
    "  def forward(self, x):\n",
    "    h = torch.zeros(self.num_layers, len(x), self.hidden_size, dtype=torch.float).to(self.device)\n",
    "    c = torch.zeros(self.num_layers, len(x), self.hidden_size, dtype=torch.float).to(self.device)\n",
    "    output, (h, c) = self.lstm(x, (h,c))\n",
    "    out = self.fc1(output)\n",
    "    # out = torch.nn.functional.hardtanh(out, min_val=0., max_val=20.0, inplace=False) \n",
    "    return torch.nn.functional.log_softmax(out, 2)"
   ]
  },
  {
   "cell_type": "code",
   "execution_count": 13,
   "metadata": {},
   "outputs": [
    {
     "name": "stdout",
     "output_type": "stream",
     "text": [
      "Epoch 0:\n"
     ]
    },
    {
     "data": {
      "application/vnd.jupyter.widget-view+json": {
       "model_id": "1f33c00a0530475e98aef3baf0f5e139",
       "version_major": 2,
       "version_minor": 0
      },
      "text/plain": [
       "HBox(children=(IntProgress(value=0, max=9765), HTML(value='')))"
      ]
     },
     "metadata": {},
     "output_type": "display_data"
    },
    {
     "name": "stdout",
     "output_type": "stream",
     "text": [
      "\n",
      "train loss =  86.83115399815276\n"
     ]
    },
    {
     "data": {
      "application/vnd.jupyter.widget-view+json": {
       "model_id": "03ec1759893342a38ef28cb5808266c0",
       "version_major": 2,
       "version_minor": 0
      },
      "text/plain": [
       "HBox(children=(IntProgress(value=0, max=2430), HTML(value='')))"
      ]
     },
     "metadata": {},
     "output_type": "display_data"
    },
    {
     "name": "stdout",
     "output_type": "stream",
     "text": [
      "\n",
      "valid loss =  75.11745625719612\n",
      "Epoch 1:\n"
     ]
    },
    {
     "data": {
      "application/vnd.jupyter.widget-view+json": {
       "model_id": "7be3352307c94154a45b36c43c9b5353",
       "version_major": 2,
       "version_minor": 0
      },
      "text/plain": [
       "HBox(children=(IntProgress(value=0, max=9765), HTML(value='')))"
      ]
     },
     "metadata": {},
     "output_type": "display_data"
    },
    {
     "name": "stdout",
     "output_type": "stream",
     "text": [
      "\n",
      "train loss =  73.01473364060925\n"
     ]
    },
    {
     "data": {
      "application/vnd.jupyter.widget-view+json": {
       "model_id": "3a9692a0ab5046ab974f4c5ff6cbd820",
       "version_major": 2,
       "version_minor": 0
      },
      "text/plain": [
       "HBox(children=(IntProgress(value=0, max=2430), HTML(value='')))"
      ]
     },
     "metadata": {},
     "output_type": "display_data"
    },
    {
     "name": "stdout",
     "output_type": "stream",
     "text": [
      "\n",
      "valid loss =  69.11548773840131\n",
      "Epoch 2:\n"
     ]
    },
    {
     "data": {
      "application/vnd.jupyter.widget-view+json": {
       "model_id": "e8c1958cf1d9417993d84b99210ed5d0",
       "version_major": 2,
       "version_minor": 0
      },
      "text/plain": [
       "HBox(children=(IntProgress(value=0, max=9765), HTML(value='')))"
      ]
     },
     "metadata": {},
     "output_type": "display_data"
    },
    {
     "name": "stdout",
     "output_type": "stream",
     "text": [
      "\n",
      "train loss =  68.79496025636266\n"
     ]
    },
    {
     "data": {
      "application/vnd.jupyter.widget-view+json": {
       "model_id": "c781f40114c34dc29809e8c4f82cab41",
       "version_major": 2,
       "version_minor": 0
      },
      "text/plain": [
       "HBox(children=(IntProgress(value=0, max=2430), HTML(value='')))"
      ]
     },
     "metadata": {},
     "output_type": "display_data"
    },
    {
     "name": "stdout",
     "output_type": "stream",
     "text": [
      "\n",
      "valid loss =  66.18758053720734\n",
      "Epoch 3:\n"
     ]
    },
    {
     "data": {
      "application/vnd.jupyter.widget-view+json": {
       "model_id": "8433f7b757ba44429d94b8658e1d7dca",
       "version_major": 2,
       "version_minor": 0
      },
      "text/plain": [
       "HBox(children=(IntProgress(value=0, max=9765), HTML(value='')))"
      ]
     },
     "metadata": {},
     "output_type": "display_data"
    },
    {
     "name": "stdout",
     "output_type": "stream",
     "text": [
      "\n",
      "train loss =  66.1588036122593\n"
     ]
    },
    {
     "data": {
      "application/vnd.jupyter.widget-view+json": {
       "model_id": "dbe323479d9c4e308da4903aad212ab8",
       "version_major": 2,
       "version_minor": 0
      },
      "text/plain": [
       "HBox(children=(IntProgress(value=0, max=2430), HTML(value='')))"
      ]
     },
     "metadata": {},
     "output_type": "display_data"
    },
    {
     "name": "stdout",
     "output_type": "stream",
     "text": [
      "\n",
      "valid loss =  63.93053890118383\n",
      "Epoch 4:\n"
     ]
    },
    {
     "data": {
      "application/vnd.jupyter.widget-view+json": {
       "model_id": "4fa7a1ffeb024cbba77a74c43a517bff",
       "version_major": 2,
       "version_minor": 0
      },
      "text/plain": [
       "HBox(children=(IntProgress(value=0, max=9765), HTML(value='')))"
      ]
     },
     "metadata": {},
     "output_type": "display_data"
    },
    {
     "name": "stdout",
     "output_type": "stream",
     "text": [
      "\n",
      "train loss =  64.30594636494236\n"
     ]
    },
    {
     "data": {
      "application/vnd.jupyter.widget-view+json": {
       "model_id": "0641ddc71ca24dcd995fe517faff7d37",
       "version_major": 2,
       "version_minor": 0
      },
      "text/plain": [
       "HBox(children=(IntProgress(value=0, max=2430), HTML(value='')))"
      ]
     },
     "metadata": {},
     "output_type": "display_data"
    },
    {
     "name": "stdout",
     "output_type": "stream",
     "text": [
      "\n",
      "valid loss =  62.73325211167826\n"
     ]
    }
   ],
   "source": [
    "train_loader = torch.utils.data.DataLoader(train_data, batch_size=16, shuffle=True, collate_fn=collate, num_workers=4, pin_memory=True)\n",
    "valid_loader = torch.utils.data.DataLoader(valid_data, batch_size=16, shuffle=True, collate_fn=collate, num_workers=4, pin_memory=True)\n",
    "\n",
    "device = torch.device('cuda')\n",
    "\n",
    "net = SpeechNet(device).to(device)\n",
    "net.apply(weight_init)\n",
    "\n",
    "\n",
    "criterion = nn.CTCLoss(blank=len(char2index), zero_infinity=True, reduction='none').to(device) \n",
    "optimizer = torch.optim.Adam(net.parameters())\n",
    "\n",
    "scheduler = ExponentialLR(optimizer, gamma=0.99999)\n",
    "clip_value = 400.0\n",
    "\n",
    "\n",
    "\n",
    "train_losses = []\n",
    "valid_losses = []\n",
    "for epoch in range(5):\n",
    "  print (f'Epoch {epoch}:')\n",
    "  for inp, inp_len, op, op_len in tqdm(train_loader):\n",
    "    \n",
    "    inp, inp_len = inp.float().to(device), inp_len.long().to(device)\n",
    "    op, op_len = op.long().to(device), op_len.long().to(device)\n",
    "\n",
    "    optimizer.zero_grad()\n",
    "    \n",
    "    p = net(inp)\n",
    "    \n",
    "    loss = criterion(p.transpose(0,1), op, inp_len, op_len)\n",
    "    # loss[loss == float(\"Inf\")] = 0\n",
    "    # print (loss.mean())\n",
    "    \n",
    "    loss = loss.mean()\n",
    "    train_losses.append(loss.item())\n",
    "    \n",
    "    if np.isnan(train_losses[-1]):\n",
    "        print ('NAN!')\n",
    "        raise 'loss is nan'\n",
    "    loss.backward()\n",
    "    torch.nn.utils.clip_grad_norm_(net.parameters(), clip_value)\n",
    "    \n",
    "    optimizer.step()\n",
    "    scheduler.step()\n",
    "  print ('train loss = ', np.mean(train_losses[::-1][:len(train_loader)]))\n",
    "\n",
    "  with torch.no_grad():\n",
    "    for inp, inp_len, op, op_len in tqdm(valid_loader):\n",
    "        \n",
    "        inp, inp_len = inp.float().to(device), inp_len.long().to(device)\n",
    "        op, op_len = op.long().to(device), op_len.long().to(device)\n",
    "        p = net(inp)\n",
    "        \n",
    "        loss = criterion(p.transpose(0,1), op, inp_len, op_len)\n",
    "        \n",
    "        loss = loss.mean()\n",
    "        valid_losses.append(loss.item())\n",
    "    print ('valid loss = ', np.mean(valid_losses[::-1][:len(valid_loader)]))"
   ]
  },
  {
   "cell_type": "code",
   "execution_count": 34,
   "metadata": {},
   "outputs": [
    {
     "data": {
      "image/png": "[encoded data removed]",
      "text/plain": [
       "<Figure size 720x360 with 1 Axes>"
      ]
     },
     "metadata": {
      "needs_background": "light"
     },
     "output_type": "display_data"
    }
   ],
   "source": [
    "import matplotlib.pyplot as plt\n",
    "%matplotlib inline\n",
    "\n",
    "plt.figure(figsize=(10,5))\n",
    "tableau20blind = [(0, 107, 164), (255, 128, 14), (171, 171, 171), (89, 89, 89),\n",
    "             (95, 158, 209), (200, 82, 0), (137, 137, 137), (163, 200, 236),\n",
    "             (255, 188, 121), (207, 207, 207)]\n",
    "for i in range(len(tableau20blind)):\n",
    "    r, g, b = tableau20blind[i]  \n",
    "    tableau20blind[i] = (r / 255., g / 255., b / 255.)\n",
    "\n",
    "\n",
    "tr = [np.mean(train_losses[start:start+len(train_loader)])  for start in range(0, len(train_losses), len(train_loader))]\n",
    "plt.plot(tr, color=tableau20blind[0])\n",
    "\n",
    "plt.xlim(0, len(tr))\n",
    "te = [np.mean(valid_losses[start:start+len(valid_loader)]) for start in range(0, len(valid_losses), len(valid_loader))]\n",
    "plt.plot(te, color=tableau20blind[1])\n",
    "\n",
    "plt.text( len(tr)-0.75,tr[-1]+1,   'Train loss', color=tableau20blind[0], fontsize=14)\n",
    "plt.text( len(te)-0.75,te[-1]-2, 'Test loss', color=tableau20blind[1], fontsize=14)\n",
    "\n",
    "plt.ylim(30, 90)\n",
    "\n",
    "plt.gca().spines['top'].set_visible(False)\n",
    "plt.gca().spines['right'].set_visible(False)\n",
    "plt.gca().spines['left'].set_visible(True)\n",
    "plt.gca().spines['bottom'].set_visible(True)\n",
    "plt.tight_layout(pad=5)\n",
    "plt.gca().tick_params(axis='both', length=0)"
   ]
  },
  {
   "cell_type": "code",
   "execution_count": null,
   "metadata": {},
   "outputs": [
    {
     "name": "stdout",
     "output_type": "stream",
     "text": [
      "Epoch 0:\n"
     ]
    },
    {
     "data": {
      "application/vnd.jupyter.widget-view+json": {
       "model_id": "67c13eb2fbe14c31b36392518f40bdd3",
       "version_major": 2,
       "version_minor": 0
      },
      "text/plain": [
       "HBox(children=(IntProgress(value=0, max=9765), HTML(value='')))"
      ]
     },
     "metadata": {},
     "output_type": "display_data"
    },
    {
     "name": "stdout",
     "output_type": "stream",
     "text": [
      "\n",
      "train loss =  62.7362318688396\n"
     ]
    },
    {
     "data": {
      "application/vnd.jupyter.widget-view+json": {
       "model_id": "def16edb150a463da60e0d025d18682b",
       "version_major": 2,
       "version_minor": 0
      },
      "text/plain": [
       "HBox(children=(IntProgress(value=0, max=2430), HTML(value='')))"
      ]
     },
     "metadata": {},
     "output_type": "display_data"
    },
    {
     "name": "stdout",
     "output_type": "stream",
     "text": [
      "\n",
      "valid loss =  61.66185897230611\n",
      "Epoch 1:\n"
     ]
    },
    {
     "data": {
      "application/vnd.jupyter.widget-view+json": {
       "model_id": "bf68bce73e5b416da2cdab40f520c08a",
       "version_major": 2,
       "version_minor": 0
      },
      "text/plain": [
       "HBox(children=(IntProgress(value=0, max=9765), HTML(value='')))"
      ]
     },
     "metadata": {},
     "output_type": "display_data"
    },
    {
     "name": "stdout",
     "output_type": "stream",
     "text": [
      "\n",
      "train loss =  61.469051133725685\n"
     ]
    },
    {
     "data": {
      "application/vnd.jupyter.widget-view+json": {
       "model_id": "907dfe4be5c44ad9879359d724496a7d",
       "version_major": 2,
       "version_minor": 0
      },
      "text/plain": [
       "HBox(children=(IntProgress(value=0, max=2430), HTML(value='')))"
      ]
     },
     "metadata": {},
     "output_type": "display_data"
    },
    {
     "name": "stdout",
     "output_type": "stream",
     "text": [
      "\n",
      "valid loss =  60.34870283809709\n",
      "Epoch 2:\n"
     ]
    },
    {
     "data": {
      "application/vnd.jupyter.widget-view+json": {
       "model_id": "6e85e8680b4b420f849425eaff88e77a",
       "version_major": 2,
       "version_minor": 0
      },
      "text/plain": [
       "HBox(children=(IntProgress(value=0, max=9765), HTML(value='')))"
      ]
     },
     "metadata": {},
     "output_type": "display_data"
    },
    {
     "name": "stdout",
     "output_type": "stream",
     "text": [
      "\n",
      "train loss =  60.29327465375753\n"
     ]
    },
    {
     "data": {
      "application/vnd.jupyter.widget-view+json": {
       "model_id": "46da1f7b1f994f66b0a77fdea2a03875",
       "version_major": 2,
       "version_minor": 0
      },
      "text/plain": [
       "HBox(children=(IntProgress(value=0, max=2430), HTML(value='')))"
      ]
     },
     "metadata": {},
     "output_type": "display_data"
    },
    {
     "name": "stdout",
     "output_type": "stream",
     "text": [
      "\n",
      "valid loss =  59.65252113970219\n",
      "Epoch 3:\n"
     ]
    },
    {
     "data": {
      "application/vnd.jupyter.widget-view+json": {
       "model_id": "08b758a9d4a549ee9265e201f2ae6617",
       "version_major": 2,
       "version_minor": 0
      },
      "text/plain": [
       "HBox(children=(IntProgress(value=0, max=9765), HTML(value='')))"
      ]
     },
     "metadata": {},
     "output_type": "display_data"
    },
    {
     "name": "stdout",
     "output_type": "stream",
     "text": [
      "\n",
      "train loss =  59.288280680041645\n"
     ]
    },
    {
     "data": {
      "application/vnd.jupyter.widget-view+json": {
       "model_id": "6a8a8e7af0fb46dc9ae2a751fe661aec",
       "version_major": 2,
       "version_minor": 0
      },
      "text/plain": [
       "HBox(children=(IntProgress(value=0, max=2430), HTML(value='')))"
      ]
     },
     "metadata": {},
     "output_type": "display_data"
    },
    {
     "name": "stdout",
     "output_type": "stream",
     "text": [
      "\n",
      "valid loss =  59.02990419521253\n",
      "Epoch 4:\n"
     ]
    },
    {
     "data": {
      "application/vnd.jupyter.widget-view+json": {
       "model_id": "767f8232c7a24540954f8a08b23cc2cd",
       "version_major": 2,
       "version_minor": 0
      },
      "text/plain": [
       "HBox(children=(IntProgress(value=0, max=9765), HTML(value='')))"
      ]
     },
     "metadata": {},
     "output_type": "display_data"
    }
   ],
   "source": [
    "for epoch in range(5):\n",
    "  print (f'Epoch {epoch}:')\n",
    "  for inp, inp_len, op, op_len in tqdm(train_loader):\n",
    "    \n",
    "    inp, inp_len = inp.float().to(device), inp_len.long().to(device)\n",
    "    op, op_len = op.long().to(device), op_len.long().to(device)\n",
    "\n",
    "    optimizer.zero_grad()\n",
    "    \n",
    "    p = net(inp)\n",
    "    \n",
    "    loss = criterion(p.transpose(0,1), op, inp_len, op_len)\n",
    "    # loss[loss == float(\"Inf\")] = 0\n",
    "    # print (loss.mean())\n",
    "    \n",
    "    loss = loss.mean()\n",
    "    train_losses.append(loss.item())\n",
    "    \n",
    "    if np.isnan(train_losses[-1]):\n",
    "        print ('NAN!')\n",
    "        raise 'loss is nan'\n",
    "    loss.backward()\n",
    "    torch.nn.utils.clip_grad_norm_(net.parameters(), clip_value)\n",
    "    \n",
    "    optimizer.step()\n",
    "    scheduler.step()\n",
    "  print ('train loss = ', np.mean(train_losses[::-1][:len(train_loader)]))\n",
    "\n",
    "  with torch.no_grad():\n",
    "    for inp, inp_len, op, op_len in tqdm(valid_loader):\n",
    "        \n",
    "        inp, inp_len = inp.float().to(device), inp_len.long().to(device)\n",
    "        op, op_len = op.long().to(device), op_len.long().to(device)\n",
    "        p = net(inp)\n",
    "        \n",
    "        loss = criterion(p.transpose(0,1), op, inp_len, op_len)\n",
    "        \n",
    "        loss = loss.mean()\n",
    "        valid_losses.append(loss.item())\n",
    "    print ('valid loss = ', np.mean(valid_losses[::-1][:len(valid_loader)]))"
   ]
  },
  {
   "cell_type": "code",
   "execution_count": 42,
   "metadata": {},
   "outputs": [
    {
     "data": {
      "image/png": "[encoded data removed]",
      "text/plain": [
       "<Figure size 720x360 with 1 Axes>"
      ]
     },
     "metadata": {
      "needs_background": "light"
     },
     "output_type": "display_data"
    }
   ],
   "source": [
    "tr = [86.83115399815276,\n",
    "73.01473364060925,\n",
    "68.79496025636266,\n",
    "66.1588036122593,\n",
    "64.30594636494236,\n",
    "62.7362318688396,\n",
    "61.469051133725685,\n",
    "60.29327465375753,\n",
    "59.288280680041645]\n",
    "\n",
    "te = [75.11745625719612,\n",
    "69.11548773840131,\n",
    "66.18758053720734,\n",
    "63.93053890118383,\n",
    "62.73325211167826,\n",
    "61.66185897230611,\n",
    "60.34870283809709,\n",
    "59.65252113970219,\n",
    "59.02990419521253]\n",
    "\n",
    "import matplotlib.pyplot as plt\n",
    "%matplotlib inline\n",
    "\n",
    "plt.figure(figsize=(10,5))\n",
    "tableau20blind = [(0, 107, 164), (255, 128, 14), (171, 171, 171), (89, 89, 89),\n",
    "             (95, 158, 209), (200, 82, 0), (137, 137, 137), (163, 200, 236),\n",
    "             (255, 188, 121), (207, 207, 207)]\n",
    "for i in range(len(tableau20blind)):\n",
    "    r, g, b = tableau20blind[i]  \n",
    "    tableau20blind[i] = (r / 255., g / 255., b / 255.)\n",
    "\n",
    "\n",
    "plt.plot(tr, color=tableau20blind[0])\n",
    "\n",
    "plt.xlim(0, len(tr))\n",
    "plt.plot(te, color=tableau20blind[1])\n",
    "\n",
    "plt.text( len(tr)-0.75,tr[-1]+1,   'Train loss', color=tableau20blind[0], fontsize=14)\n",
    "plt.text( len(te)-0.75,te[-1]-2, 'Test loss', color=tableau20blind[1], fontsize=14)\n",
    "\n",
    "plt.ylim(30, 90)\n",
    "\n",
    "plt.gca().spines['top'].set_visible(False)\n",
    "plt.gca().spines['right'].set_visible(False)\n",
    "plt.gca().spines['left'].set_visible(True)\n",
    "plt.gca().spines['bottom'].set_visible(True)\n",
    "plt.tight_layout(pad=5)\n",
    "plt.gca().tick_params(axis='both', length=0)"
   ]
  },
  {
   "cell_type": "code",
   "execution_count": 38,
   "metadata": {},
   "outputs": [
    {
     "name": "stdout",
     "output_type": "stream",
     "text": [
      "<the alchemist dismounted and told the escorts they could return to the camp>\n",
      "<the afe mist tis maun tidin to tha esporsaein retern e the can>u\n",
      "\n",
      "<men playing a soccer game>\n",
      "<tetle plan ha suce gen> \n",
      "\n",
      "<a dish fit for the gods>\n",
      "<a dish ti fhe thegads> he u eeeeee e e               \n",
      "\n",
      "<and he thought of oona and of her words>\n",
      "<an he fat of o> and ofer wors>e \n",
      "\n",
      "<when she entered the dance floor everyone in the nightclub was looking at her>\n",
      "<whe she handte the dans fo> avery wie an the niclob was loofing anver>iuou\n",
      "\n",
      "<the thing is nobody knew what was happening>\n",
      "<he nes novery he o as hanin>i iou \n",
      "\n",
      "<oh is that all>\n",
      "<il is that all>ee\n",
      "\n",
      "<you don't deny that>\n",
      "<you don't to no hap eee a e  e e e e e e e ee e e ee e eee\n",
      "\n",
      "<sports music cooking and other topics are covered>\n",
      "<sors esi cooing in other toi to coverd>e  \n",
      "\n",
      "<there are many languages spoken by things the boy said>\n",
      "<there rra mani lang werd is> open bi tings> the boysad\n",
      "\n",
      "<how big can elephants be>\n",
      "<ow ba on eloffins be>e uuo ee e \n",
      "\n",
      "<sorry we didn't even know you were here>\n",
      "<sor we din ne ven now yo reber>uuoue\n",
      "\n",
      "<we rejoiced at the citadel>\n",
      "<we vertroise tap the sie dan>e eeeeeee\n",
      "\n",
      "<she always managed to make everybody around him smile>\n",
      "<sha alwas menege tore averybagyoroun hav smo \n",
      "\n",
      "<the first baseman dropped the ball>\n",
      "<the frs bas man dof the bol>eea               \n",
      "\n",
      "<absolutely despicable that gingerbread men are forced to live in houses made of their own flesh>\n",
      "<a so wil we the spickoble tha canter rad man of forse ti liin hasees mat af theron fois>\n",
      "\n"
     ]
    }
   ],
   "source": [
    "\n",
    "\n",
    "import itertools\n",
    "index2char = dict(zip(char2index.values(), char2index.keys()))\n",
    "with torch.no_grad():\n",
    "  for inp, inp_len, op, op_len in valid_loader:\n",
    "      \n",
    "    inp, inp_len = inp.float().to(device), inp_len.long().to(device)\n",
    "    op, op_len = op.long().to(device), op_len.long().to(device)\n",
    "\n",
    "      \n",
    "\n",
    "    p = net(inp)\n",
    "    start = 0\n",
    "    for pi, o in zip(p, op_len):\n",
    "      \n",
    "      \n",
    "      print (''.join(index2char[i] for i in op[start:start+o].cpu().numpy()))\n",
    "      for i in (k for k, g in itertools.groupby(pi.argmax(1).cpu().numpy())):\n",
    "        \n",
    "        if i < len(index2char):\n",
    "          print (index2char[i], end = '')\n",
    "      print ('\\n')\n",
    "      start += o\n",
    "    break\n",
    "\n"
   ]
  }
 ],
 "metadata": {
  "kernelspec": {
   "display_name": "Python 3",
   "language": "python",
   "name": "python3"
  },
  "language_info": {
   "codemirror_mode": {
    "name": "ipython",
    "version": 3
   },
   "file_extension": ".py",
   "mimetype": "text/x-python",
   "name": "python",
   "nbconvert_exporter": "python",
   "pygments_lexer": "ipython3",
   "version": "3.7.4"
  }
 },
 "nbformat": 4,
 "nbformat_minor": 4
}
