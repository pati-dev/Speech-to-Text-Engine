{
 "cells": [
  {
   "cell_type": "code",
   "execution_count": 25,
   "metadata": {},
   "outputs": [
    {
     "name": "stdout",
     "output_type": "stream",
     "text": [
      "12\n",
      "[('australia', 'female'), ('australia', 'male'), ('canada', 'female'), ('canada', 'male'), ('england', 'female'), ('england', 'male'), ('indian', 'female'), ('indian', 'male'), ('scotland', 'female'), ('scotland', 'male'), ('us', 'female'), ('us', 'male')]\n"
     ]
    }
   ],
   "source": [
    "import itertools\n",
    "import pandas as pd\n",
    "from collections import Counter\n",
    "import numpy as np\n",
    "\n",
    "table = pd.read_csv('finalTrain.csv')\n",
    "\n",
    "\n",
    "accents = list(set(table.accent))\n",
    "genders = list(set(table.gender))\n",
    "classes = sorted([e for e in itertools.product(accents, genders)])\n",
    "print (len(classes))\n",
    "print (classes)\n"
   ]
  },
  {
   "cell_type": "code",
   "execution_count": 26,
   "metadata": {},
   "outputs": [
    {
     "name": "stderr",
     "output_type": "stream",
     "text": [
      "Traceback (most recent call last):\n",
      "  File \"/opt/anaconda3/lib/python3.7/multiprocessing/queues.py\", line 242, in _feed\n",
      "    send_bytes(obj)\n",
      "  File \"/opt/anaconda3/lib/python3.7/multiprocessing/connection.py\", line 200, in send_bytes\n",
      "    self._send_bytes(m[offset:offset + size])\n",
      "  File \"/opt/anaconda3/lib/python3.7/multiprocessing/connection.py\", line 404, in _send_bytes\n",
      "    self._send(header + buf)\n",
      "  File \"/opt/anaconda3/lib/python3.7/multiprocessing/connection.py\", line 368, in _send\n",
      "    n = write(self._handle, buf)\n",
      "BrokenPipeError: [Errno 32] Broken pipe\n",
      "Exception ignored in: <function _ConnectionBase.__del__ at 0x7f6fecbb7320>\n",
      "Traceback (most recent call last):\n",
      "  File \"/opt/anaconda3/lib/python3.7/multiprocessing/connection.py\", line 132, in __del__\n",
      "    self._close()\n",
      "  File \"/opt/anaconda3/lib/python3.7/multiprocessing/connection.py\", line 361, in _close\n",
      "    _close(self._handle)\n",
      "OSError: [Errno 9] Bad file descriptor\n"
     ]
    },
    {
     "data": {
      "application/vnd.jupyter.widget-view+json": {
       "model_id": "a19454b17b4e4437a316ee745bc49869",
       "version_major": 2,
       "version_minor": 0
      },
      "text/plain": [
       "HBox(children=(IntProgress(value=0, max=41090), HTML(value='')))"
      ]
     },
     "metadata": {},
     "output_type": "display_data"
    },
    {
     "name": "stdout",
     "output_type": "stream",
     "text": [
      "\n"
     ]
    },
    {
     "data": {
      "application/vnd.jupyter.widget-view+json": {
       "model_id": "3e93d64e42a84cd6983a36aa35a64dc1",
       "version_major": 2,
       "version_minor": 0
      },
      "text/plain": [
       "HBox(children=(IntProgress(value=0, max=165841), HTML(value='')))"
      ]
     },
     "metadata": {},
     "output_type": "display_data"
    },
    {
     "name": "stdout",
     "output_type": "stream",
     "text": [
      "\n"
     ]
    }
   ],
   "source": [
    "import pandas as pd\n",
    "import numpy as np\n",
    "import torch\n",
    "import torch.nn.functional as F\n",
    "\n",
    "from tqdm.auto import tqdm\n",
    "\n",
    "from os import path, listdir\n",
    "from collections import Counter\n",
    "import ftfy\n",
    "import string\n",
    "\n",
    "allowed = string.ascii_lowercase + string.digits + \" $&%+/-'\"\n",
    "allowed_set = set(allowed)\n",
    "\n",
    "def clean(s):\n",
    "  s = ftfy.fix_text(s, normalization='NFKD').lower()\n",
    "  s = s.encode('ascii','ignore').decode('ascii')\n",
    "  return ''.join(c for c in s if c in allowed_set)\n",
    "\n",
    "\n",
    "char2index = { c: i for i, c in enumerate('<>' + allowed ) }\n",
    "\n",
    "class CommonVoiceDataset(torch.utils.data.Dataset):\n",
    "  def __init__(self, csv_file, root_dir):\n",
    "    self.csv_file = csv_file\n",
    "    self.table = pd.read_csv(csv_file)\n",
    "    self.root_dir = root_dir\n",
    "    file_names = []\n",
    "    mfccs = []\n",
    "    for f in tqdm(sorted(listdir(root_dir))):\n",
    "        mfcc = torch.Tensor(np.load(path.join(self.root_dir, f)))\n",
    "        if len(mfcc) > 300:\n",
    "            continue\n",
    "        mfccs.append(mfcc)\n",
    "        file_names.append(f)\n",
    "        \n",
    "    self.mfccs = mfccs\n",
    "    self.file_names = file_names\n",
    "    \n",
    "  def __getitem__(self, i):\n",
    "    mfcc = self.mfccs[i] # torch.Tensor(np.load(path.join(self.root_dir, self.file_names[i])))\n",
    "    \n",
    "    row = self.table[self.table.path == self.file_names[i].replace('.npy', '')]\n",
    "    [sentence], [age], [accent], [gender] = row.sentence, row.age, row.accent, row.gender\n",
    "    \n",
    "    t = classes.index((accent, gender))\n",
    "    target = F.one_hot(torch.tensor([t] * len(mfcc)), num_classes=len(classes)).float() \n",
    "    feature = torch.cat([mfcc, target], 1)\n",
    "    \n",
    "    sentence = '<' + clean(sentence) + '>'\n",
    "    sentence = torch.Tensor([char2index[c] for c in sentence])\n",
    "    return feature, torch.tensor([len(feature)]), sentence, torch.tensor([len(sentence)])\n",
    "\n",
    "  def __len__(self):\n",
    "    return len(self.file_names)\n",
    "\n",
    "def collate(batch):\n",
    "  inp, inp_len, op, op_len = zip(*batch)\n",
    "  inp = torch.nn.utils.rnn.pad_sequence(inp, batch_first=True, padding_value=len(char2index))\n",
    "  inp_len = torch.stack(inp_len)\n",
    "  op = torch.cat(op) \n",
    "  op_len = torch.stack(op_len)\n",
    "  return inp, inp_len, op, op_len \n",
    "\n",
    "\n",
    "import torch.nn.init as init\n",
    "\n",
    "def weight_init(m):\n",
    "  if isinstance(m, nn.Linear):\n",
    "    init.xavier_normal_(m.weight.data)\n",
    "    init.normal_(m.bias.data)\n",
    "  elif isinstance(m, nn.LSTM):\n",
    "    for param in m.parameters():\n",
    "      if len(param.shape) >= 2:\n",
    "        init.orthogonal_(param.data)\n",
    "      else:\n",
    "        init.normal_(param.data)\n",
    "\n",
    "valid_data = CommonVoiceDataset('finalVal.csv', 'validation')\n",
    "train_data = CommonVoiceDataset('finalTrain.csv', 'train')"
   ]
  },
  {
   "cell_type": "code",
   "execution_count": 27,
   "metadata": {},
   "outputs": [
    {
     "data": {
      "text/plain": [
       "{'<': 0,\n",
       " '>': 1,\n",
       " 'a': 2,\n",
       " 'b': 3,\n",
       " 'c': 4,\n",
       " 'd': 5,\n",
       " 'e': 6,\n",
       " 'f': 7,\n",
       " 'g': 8,\n",
       " 'h': 9,\n",
       " 'i': 10,\n",
       " 'j': 11,\n",
       " 'k': 12,\n",
       " 'l': 13,\n",
       " 'm': 14,\n",
       " 'n': 15,\n",
       " 'o': 16,\n",
       " 'p': 17,\n",
       " 'q': 18,\n",
       " 'r': 19,\n",
       " 's': 20,\n",
       " 't': 21,\n",
       " 'u': 22,\n",
       " 'v': 23,\n",
       " 'w': 24,\n",
       " 'x': 25,\n",
       " 'y': 26,\n",
       " 'z': 27,\n",
       " '0': 28,\n",
       " '1': 29,\n",
       " '2': 30,\n",
       " '3': 31,\n",
       " '4': 32,\n",
       " '5': 33,\n",
       " '6': 34,\n",
       " '7': 35,\n",
       " '8': 36,\n",
       " '9': 37,\n",
       " ' ': 38,\n",
       " '$': 39,\n",
       " '&': 40,\n",
       " '%': 41,\n",
       " '+': 42,\n",
       " '/': 43,\n",
       " '-': 44,\n",
       " \"'\": 45}"
      ]
     },
     "execution_count": 27,
     "metadata": {},
     "output_type": "execute_result"
    }
   ],
   "source": [
    "char2index"
   ]
  },
  {
   "cell_type": "code",
   "execution_count": 28,
   "metadata": {},
   "outputs": [
    {
     "data": {
      "image/png": "[encoded data removed]",
      "text/plain": [
       "<Figure size 432x288 with 1 Axes>"
      ]
     },
     "metadata": {
      "needs_background": "light"
     },
     "output_type": "display_data"
    }
   ],
   "source": [
    "import matplotlib.pyplot as plt\n",
    "%matplotlib inline\n",
    "\n",
    "plt.hist([len(m) for m in train_data.mfccs], bins=50);"
   ]
  },
  {
   "cell_type": "code",
   "execution_count": 29,
   "metadata": {},
   "outputs": [],
   "source": [
    "import torch.nn as nn\n",
    "from torch.autograd import Variable\n",
    "from tqdm.auto import tqdm\n",
    "import itertools\n",
    "\n",
    "from torch.optim.lr_scheduler import ExponentialLR\n",
    "\n",
    "\n",
    "class SpeechNet(nn.Module):\n",
    "  def __init__(self, device, input_size=32, output_size=len(char2index)+1, num_layers=2, hidden_size=256):\n",
    "    self.device = device\n",
    "    self.num_layers = num_layers\n",
    "    self.hidden_size = hidden_size\n",
    "    super(SpeechNet, self).__init__()\n",
    "    self.lstm = nn.LSTM(input_size=input_size, hidden_size=hidden_size, num_layers=num_layers, batch_first=True)\n",
    "    self.fc1 = nn.Linear(hidden_size, output_size)\n",
    "  def forward(self, x):\n",
    "    h = torch.zeros(self.num_layers, len(x), self.hidden_size, dtype=torch.float).to(self.device)\n",
    "    c = torch.zeros(self.num_layers, len(x), self.hidden_size, dtype=torch.float).to(self.device)\n",
    "    output, (h, c) = self.lstm(x, (h,c))\n",
    "    out = self.fc1(output)\n",
    "    # out = torch.nn.functional.hardtanh(out, min_val=0., max_val=20.0, inplace=False) \n",
    "    return torch.nn.functional.log_softmax(out, 2)"
   ]
  },
  {
   "cell_type": "code",
   "execution_count": 30,
   "metadata": {},
   "outputs": [
    {
     "name": "stdout",
     "output_type": "stream",
     "text": [
      "Epoch 0:\n"
     ]
    },
    {
     "data": {
      "application/vnd.jupyter.widget-view+json": {
       "model_id": "3d8eba6aa5254592aef59d46fa5c4302",
       "version_major": 2,
       "version_minor": 0
      },
      "text/plain": [
       "HBox(children=(IntProgress(value=0, max=2442), HTML(value='')))"
      ]
     },
     "metadata": {},
     "output_type": "display_data"
    },
    {
     "name": "stdout",
     "output_type": "stream",
     "text": [
      "\n",
      "train loss =  95.07856501798763\n"
     ]
    },
    {
     "data": {
      "application/vnd.jupyter.widget-view+json": {
       "model_id": "ca40db3e431a433a9364c89bb53515f6",
       "version_major": 2,
       "version_minor": 0
      },
      "text/plain": [
       "HBox(children=(IntProgress(value=0, max=608), HTML(value='')))"
      ]
     },
     "metadata": {},
     "output_type": "display_data"
    },
    {
     "name": "stdout",
     "output_type": "stream",
     "text": [
      "\n",
      "valid loss =  78.40558091590279\n",
      "Epoch 1:\n"
     ]
    },
    {
     "data": {
      "application/vnd.jupyter.widget-view+json": {
       "model_id": "c45bd875ffbd491498308ab026273085",
       "version_major": 2,
       "version_minor": 0
      },
      "text/plain": [
       "HBox(children=(IntProgress(value=0, max=2442), HTML(value='')))"
      ]
     },
     "metadata": {},
     "output_type": "display_data"
    },
    {
     "name": "stdout",
     "output_type": "stream",
     "text": [
      "\n",
      "train loss =  75.30176406098037\n"
     ]
    },
    {
     "data": {
      "application/vnd.jupyter.widget-view+json": {
       "model_id": "134735da464848f0b4c76c78c2bbc6d1",
       "version_major": 2,
       "version_minor": 0
      },
      "text/plain": [
       "HBox(children=(IntProgress(value=0, max=608), HTML(value='')))"
      ]
     },
     "metadata": {},
     "output_type": "display_data"
    },
    {
     "name": "stdout",
     "output_type": "stream",
     "text": [
      "\n",
      "valid loss =  70.70696075966484\n",
      "Epoch 2:\n"
     ]
    },
    {
     "data": {
      "application/vnd.jupyter.widget-view+json": {
       "model_id": "8c1668ca198b4d89bc3c2fc6c6b2b455",
       "version_major": 2,
       "version_minor": 0
      },
      "text/plain": [
       "HBox(children=(IntProgress(value=0, max=2442), HTML(value='')))"
      ]
     },
     "metadata": {},
     "output_type": "display_data"
    },
    {
     "name": "stdout",
     "output_type": "stream",
     "text": [
      "\n",
      "train loss =  69.67096806119253\n"
     ]
    },
    {
     "data": {
      "application/vnd.jupyter.widget-view+json": {
       "model_id": "2996b64ef9bf4750a9f60fd5b7384960",
       "version_major": 2,
       "version_minor": 0
      },
      "text/plain": [
       "HBox(children=(IntProgress(value=0, max=608), HTML(value='')))"
      ]
     },
     "metadata": {},
     "output_type": "display_data"
    },
    {
     "name": "stdout",
     "output_type": "stream",
     "text": [
      "\n",
      "valid loss =  66.71267131755226\n",
      "Epoch 3:\n"
     ]
    },
    {
     "data": {
      "application/vnd.jupyter.widget-view+json": {
       "model_id": "722ba0a89caa43db9f73a5a3e108a79d",
       "version_major": 2,
       "version_minor": 0
      },
      "text/plain": [
       "HBox(children=(IntProgress(value=0, max=2442), HTML(value='')))"
      ]
     },
     "metadata": {},
     "output_type": "display_data"
    },
    {
     "ename": "KeyboardInterrupt",
     "evalue": "",
     "output_type": "error",
     "traceback": [
      "\u001b[0;31m---------------------------------------------------------------------------\u001b[0m",
      "\u001b[0;31mKeyboardInterrupt\u001b[0m                         Traceback (most recent call last)",
      "\u001b[0;32m<ipython-input-30-a301ecbb527f>\u001b[0m in \u001b[0;36m<module>\u001b[0;34m\u001b[0m\n\u001b[1;32m     20\u001b[0m \u001b[0;32mfor\u001b[0m \u001b[0mepoch\u001b[0m \u001b[0;32min\u001b[0m \u001b[0mrange\u001b[0m\u001b[0;34m(\u001b[0m\u001b[0;36m5\u001b[0m\u001b[0;34m)\u001b[0m\u001b[0;34m:\u001b[0m\u001b[0;34m\u001b[0m\u001b[0;34m\u001b[0m\u001b[0m\n\u001b[1;32m     21\u001b[0m   \u001b[0mprint\u001b[0m \u001b[0;34m(\u001b[0m\u001b[0;34mf'Epoch {epoch}:'\u001b[0m\u001b[0;34m)\u001b[0m\u001b[0;34m\u001b[0m\u001b[0;34m\u001b[0m\u001b[0m\n\u001b[0;32m---> 22\u001b[0;31m   \u001b[0;32mfor\u001b[0m \u001b[0minp\u001b[0m\u001b[0;34m,\u001b[0m \u001b[0minp_len\u001b[0m\u001b[0;34m,\u001b[0m \u001b[0mop\u001b[0m\u001b[0;34m,\u001b[0m \u001b[0mop_len\u001b[0m \u001b[0;32min\u001b[0m \u001b[0mtqdm\u001b[0m\u001b[0;34m(\u001b[0m\u001b[0mtrain_loader\u001b[0m\u001b[0;34m)\u001b[0m\u001b[0;34m:\u001b[0m\u001b[0;34m\u001b[0m\u001b[0;34m\u001b[0m\u001b[0m\n\u001b[0m\u001b[1;32m     23\u001b[0m \u001b[0;34m\u001b[0m\u001b[0m\n\u001b[1;32m     24\u001b[0m     \u001b[0minp\u001b[0m\u001b[0;34m,\u001b[0m \u001b[0minp_len\u001b[0m \u001b[0;34m=\u001b[0m \u001b[0minp\u001b[0m\u001b[0;34m.\u001b[0m\u001b[0mfloat\u001b[0m\u001b[0;34m(\u001b[0m\u001b[0;34m)\u001b[0m\u001b[0;34m.\u001b[0m\u001b[0mto\u001b[0m\u001b[0;34m(\u001b[0m\u001b[0mdevice\u001b[0m\u001b[0;34m)\u001b[0m\u001b[0;34m,\u001b[0m \u001b[0minp_len\u001b[0m\u001b[0;34m.\u001b[0m\u001b[0mlong\u001b[0m\u001b[0;34m(\u001b[0m\u001b[0;34m)\u001b[0m\u001b[0;34m.\u001b[0m\u001b[0mto\u001b[0m\u001b[0;34m(\u001b[0m\u001b[0mdevice\u001b[0m\u001b[0;34m)\u001b[0m\u001b[0;34m\u001b[0m\u001b[0;34m\u001b[0m\u001b[0m\n",
      "\u001b[0;32m/opt/anaconda3/lib/python3.7/site-packages/tqdm/notebook.py\u001b[0m in \u001b[0;36m__iter__\u001b[0;34m(self, *args, **kwargs)\u001b[0m\n\u001b[1;32m    220\u001b[0m     \u001b[0;32mdef\u001b[0m \u001b[0m__iter__\u001b[0m\u001b[0;34m(\u001b[0m\u001b[0mself\u001b[0m\u001b[0;34m,\u001b[0m \u001b[0;34m*\u001b[0m\u001b[0margs\u001b[0m\u001b[0;34m,\u001b[0m \u001b[0;34m**\u001b[0m\u001b[0mkwargs\u001b[0m\u001b[0;34m)\u001b[0m\u001b[0;34m:\u001b[0m\u001b[0;34m\u001b[0m\u001b[0;34m\u001b[0m\u001b[0m\n\u001b[1;32m    221\u001b[0m         \u001b[0;32mtry\u001b[0m\u001b[0;34m:\u001b[0m\u001b[0;34m\u001b[0m\u001b[0;34m\u001b[0m\u001b[0m\n\u001b[0;32m--> 222\u001b[0;31m             \u001b[0;32mfor\u001b[0m \u001b[0mobj\u001b[0m \u001b[0;32min\u001b[0m \u001b[0msuper\u001b[0m\u001b[0;34m(\u001b[0m\u001b[0mtqdm_notebook\u001b[0m\u001b[0;34m,\u001b[0m \u001b[0mself\u001b[0m\u001b[0;34m)\u001b[0m\u001b[0;34m.\u001b[0m\u001b[0m__iter__\u001b[0m\u001b[0;34m(\u001b[0m\u001b[0;34m*\u001b[0m\u001b[0margs\u001b[0m\u001b[0;34m,\u001b[0m \u001b[0;34m**\u001b[0m\u001b[0mkwargs\u001b[0m\u001b[0;34m)\u001b[0m\u001b[0;34m:\u001b[0m\u001b[0;34m\u001b[0m\u001b[0;34m\u001b[0m\u001b[0m\n\u001b[0m\u001b[1;32m    223\u001b[0m                 \u001b[0;31m# return super(tqdm...) will not catch exception\u001b[0m\u001b[0;34m\u001b[0m\u001b[0;34m\u001b[0m\u001b[0;34m\u001b[0m\u001b[0m\n\u001b[1;32m    224\u001b[0m                 \u001b[0;32myield\u001b[0m \u001b[0mobj\u001b[0m\u001b[0;34m\u001b[0m\u001b[0;34m\u001b[0m\u001b[0m\n",
      "\u001b[0;32m/opt/anaconda3/lib/python3.7/site-packages/tqdm/std.py\u001b[0m in \u001b[0;36m__iter__\u001b[0;34m(self)\u001b[0m\n\u001b[1;32m   1085\u001b[0m             \"\"\"), fp_write=getattr(self.fp, 'write', sys.stderr.write))\n\u001b[1;32m   1086\u001b[0m \u001b[0;34m\u001b[0m\u001b[0m\n\u001b[0;32m-> 1087\u001b[0;31m         \u001b[0;32mfor\u001b[0m \u001b[0mobj\u001b[0m \u001b[0;32min\u001b[0m \u001b[0miterable\u001b[0m\u001b[0;34m:\u001b[0m\u001b[0;34m\u001b[0m\u001b[0;34m\u001b[0m\u001b[0m\n\u001b[0m\u001b[1;32m   1088\u001b[0m             \u001b[0;32myield\u001b[0m \u001b[0mobj\u001b[0m\u001b[0;34m\u001b[0m\u001b[0;34m\u001b[0m\u001b[0m\n\u001b[1;32m   1089\u001b[0m             \u001b[0;31m# Update and possibly print the progressbar.\u001b[0m\u001b[0;34m\u001b[0m\u001b[0;34m\u001b[0m\u001b[0;34m\u001b[0m\u001b[0m\n",
      "\u001b[0;32m/opt/anaconda3/lib/python3.7/site-packages/torch/utils/data/dataloader.py\u001b[0m in \u001b[0;36m__next__\u001b[0;34m(self)\u001b[0m\n\u001b[1;32m    802\u001b[0m \u001b[0;34m\u001b[0m\u001b[0m\n\u001b[1;32m    803\u001b[0m             \u001b[0;32massert\u001b[0m \u001b[0;32mnot\u001b[0m \u001b[0mself\u001b[0m\u001b[0;34m.\u001b[0m\u001b[0m_shutdown\u001b[0m \u001b[0;32mand\u001b[0m \u001b[0mself\u001b[0m\u001b[0;34m.\u001b[0m\u001b[0m_tasks_outstanding\u001b[0m \u001b[0;34m>\u001b[0m \u001b[0;36m0\u001b[0m\u001b[0;34m\u001b[0m\u001b[0;34m\u001b[0m\u001b[0m\n\u001b[0;32m--> 804\u001b[0;31m             \u001b[0midx\u001b[0m\u001b[0;34m,\u001b[0m \u001b[0mdata\u001b[0m \u001b[0;34m=\u001b[0m \u001b[0mself\u001b[0m\u001b[0;34m.\u001b[0m\u001b[0m_get_data\u001b[0m\u001b[0;34m(\u001b[0m\u001b[0;34m)\u001b[0m\u001b[0;34m\u001b[0m\u001b[0;34m\u001b[0m\u001b[0m\n\u001b[0m\u001b[1;32m    805\u001b[0m             \u001b[0mself\u001b[0m\u001b[0;34m.\u001b[0m\u001b[0m_tasks_outstanding\u001b[0m \u001b[0;34m-=\u001b[0m \u001b[0;36m1\u001b[0m\u001b[0;34m\u001b[0m\u001b[0;34m\u001b[0m\u001b[0m\n\u001b[1;32m    806\u001b[0m \u001b[0;34m\u001b[0m\u001b[0m\n",
      "\u001b[0;32m/opt/anaconda3/lib/python3.7/site-packages/torch/utils/data/dataloader.py\u001b[0m in \u001b[0;36m_get_data\u001b[0;34m(self)\u001b[0m\n\u001b[1;32m    759\u001b[0m         \u001b[0;32melif\u001b[0m \u001b[0mself\u001b[0m\u001b[0;34m.\u001b[0m\u001b[0m_pin_memory\u001b[0m\u001b[0;34m:\u001b[0m\u001b[0;34m\u001b[0m\u001b[0;34m\u001b[0m\u001b[0m\n\u001b[1;32m    760\u001b[0m             \u001b[0;32mwhile\u001b[0m \u001b[0mself\u001b[0m\u001b[0;34m.\u001b[0m\u001b[0m_pin_memory_thread\u001b[0m\u001b[0;34m.\u001b[0m\u001b[0mis_alive\u001b[0m\u001b[0;34m(\u001b[0m\u001b[0;34m)\u001b[0m\u001b[0;34m:\u001b[0m\u001b[0;34m\u001b[0m\u001b[0;34m\u001b[0m\u001b[0m\n\u001b[0;32m--> 761\u001b[0;31m                 \u001b[0msuccess\u001b[0m\u001b[0;34m,\u001b[0m \u001b[0mdata\u001b[0m \u001b[0;34m=\u001b[0m \u001b[0mself\u001b[0m\u001b[0;34m.\u001b[0m\u001b[0m_try_get_data\u001b[0m\u001b[0;34m(\u001b[0m\u001b[0;34m)\u001b[0m\u001b[0;34m\u001b[0m\u001b[0;34m\u001b[0m\u001b[0m\n\u001b[0m\u001b[1;32m    762\u001b[0m                 \u001b[0;32mif\u001b[0m \u001b[0msuccess\u001b[0m\u001b[0;34m:\u001b[0m\u001b[0;34m\u001b[0m\u001b[0;34m\u001b[0m\u001b[0m\n\u001b[1;32m    763\u001b[0m                     \u001b[0;32mreturn\u001b[0m \u001b[0mdata\u001b[0m\u001b[0;34m\u001b[0m\u001b[0;34m\u001b[0m\u001b[0m\n",
      "\u001b[0;32m/opt/anaconda3/lib/python3.7/site-packages/torch/utils/data/dataloader.py\u001b[0m in \u001b[0;36m_try_get_data\u001b[0;34m(self, timeout)\u001b[0m\n\u001b[1;32m    722\u001b[0m         \u001b[0;31m#   (bool: whether successfully get data, any: data if successful else None)\u001b[0m\u001b[0;34m\u001b[0m\u001b[0;34m\u001b[0m\u001b[0;34m\u001b[0m\u001b[0m\n\u001b[1;32m    723\u001b[0m         \u001b[0;32mtry\u001b[0m\u001b[0;34m:\u001b[0m\u001b[0;34m\u001b[0m\u001b[0;34m\u001b[0m\u001b[0m\n\u001b[0;32m--> 724\u001b[0;31m             \u001b[0mdata\u001b[0m \u001b[0;34m=\u001b[0m \u001b[0mself\u001b[0m\u001b[0;34m.\u001b[0m\u001b[0m_data_queue\u001b[0m\u001b[0;34m.\u001b[0m\u001b[0mget\u001b[0m\u001b[0;34m(\u001b[0m\u001b[0mtimeout\u001b[0m\u001b[0;34m=\u001b[0m\u001b[0mtimeout\u001b[0m\u001b[0;34m)\u001b[0m\u001b[0;34m\u001b[0m\u001b[0;34m\u001b[0m\u001b[0m\n\u001b[0m\u001b[1;32m    725\u001b[0m             \u001b[0;32mreturn\u001b[0m \u001b[0;34m(\u001b[0m\u001b[0;32mTrue\u001b[0m\u001b[0;34m,\u001b[0m \u001b[0mdata\u001b[0m\u001b[0;34m)\u001b[0m\u001b[0;34m\u001b[0m\u001b[0;34m\u001b[0m\u001b[0m\n\u001b[1;32m    726\u001b[0m         \u001b[0;32mexcept\u001b[0m \u001b[0mException\u001b[0m \u001b[0;32mas\u001b[0m \u001b[0me\u001b[0m\u001b[0;34m:\u001b[0m\u001b[0;34m\u001b[0m\u001b[0;34m\u001b[0m\u001b[0m\n",
      "\u001b[0;32m/opt/anaconda3/lib/python3.7/queue.py\u001b[0m in \u001b[0;36mget\u001b[0;34m(self, block, timeout)\u001b[0m\n\u001b[1;32m    177\u001b[0m                     \u001b[0;32mif\u001b[0m \u001b[0mremaining\u001b[0m \u001b[0;34m<=\u001b[0m \u001b[0;36m0.0\u001b[0m\u001b[0;34m:\u001b[0m\u001b[0;34m\u001b[0m\u001b[0;34m\u001b[0m\u001b[0m\n\u001b[1;32m    178\u001b[0m                         \u001b[0;32mraise\u001b[0m \u001b[0mEmpty\u001b[0m\u001b[0;34m\u001b[0m\u001b[0;34m\u001b[0m\u001b[0m\n\u001b[0;32m--> 179\u001b[0;31m                     \u001b[0mself\u001b[0m\u001b[0;34m.\u001b[0m\u001b[0mnot_empty\u001b[0m\u001b[0;34m.\u001b[0m\u001b[0mwait\u001b[0m\u001b[0;34m(\u001b[0m\u001b[0mremaining\u001b[0m\u001b[0;34m)\u001b[0m\u001b[0;34m\u001b[0m\u001b[0;34m\u001b[0m\u001b[0m\n\u001b[0m\u001b[1;32m    180\u001b[0m             \u001b[0mitem\u001b[0m \u001b[0;34m=\u001b[0m \u001b[0mself\u001b[0m\u001b[0;34m.\u001b[0m\u001b[0m_get\u001b[0m\u001b[0;34m(\u001b[0m\u001b[0;34m)\u001b[0m\u001b[0;34m\u001b[0m\u001b[0;34m\u001b[0m\u001b[0m\n\u001b[1;32m    181\u001b[0m             \u001b[0mself\u001b[0m\u001b[0;34m.\u001b[0m\u001b[0mnot_full\u001b[0m\u001b[0;34m.\u001b[0m\u001b[0mnotify\u001b[0m\u001b[0;34m(\u001b[0m\u001b[0;34m)\u001b[0m\u001b[0;34m\u001b[0m\u001b[0;34m\u001b[0m\u001b[0m\n",
      "\u001b[0;32m/opt/anaconda3/lib/python3.7/threading.py\u001b[0m in \u001b[0;36mwait\u001b[0;34m(self, timeout)\u001b[0m\n\u001b[1;32m    298\u001b[0m             \u001b[0;32melse\u001b[0m\u001b[0;34m:\u001b[0m\u001b[0;34m\u001b[0m\u001b[0;34m\u001b[0m\u001b[0m\n\u001b[1;32m    299\u001b[0m                 \u001b[0;32mif\u001b[0m \u001b[0mtimeout\u001b[0m \u001b[0;34m>\u001b[0m \u001b[0;36m0\u001b[0m\u001b[0;34m:\u001b[0m\u001b[0;34m\u001b[0m\u001b[0;34m\u001b[0m\u001b[0m\n\u001b[0;32m--> 300\u001b[0;31m                     \u001b[0mgotit\u001b[0m \u001b[0;34m=\u001b[0m \u001b[0mwaiter\u001b[0m\u001b[0;34m.\u001b[0m\u001b[0macquire\u001b[0m\u001b[0;34m(\u001b[0m\u001b[0;32mTrue\u001b[0m\u001b[0;34m,\u001b[0m \u001b[0mtimeout\u001b[0m\u001b[0;34m)\u001b[0m\u001b[0;34m\u001b[0m\u001b[0;34m\u001b[0m\u001b[0m\n\u001b[0m\u001b[1;32m    301\u001b[0m                 \u001b[0;32melse\u001b[0m\u001b[0;34m:\u001b[0m\u001b[0;34m\u001b[0m\u001b[0;34m\u001b[0m\u001b[0m\n\u001b[1;32m    302\u001b[0m                     \u001b[0mgotit\u001b[0m \u001b[0;34m=\u001b[0m \u001b[0mwaiter\u001b[0m\u001b[0;34m.\u001b[0m\u001b[0macquire\u001b[0m\u001b[0;34m(\u001b[0m\u001b[0;32mFalse\u001b[0m\u001b[0;34m)\u001b[0m\u001b[0;34m\u001b[0m\u001b[0;34m\u001b[0m\u001b[0m\n",
      "\u001b[0;31mKeyboardInterrupt\u001b[0m: "
     ]
    }
   ],
   "source": [
    "train_loader = torch.utils.data.DataLoader(train_data, batch_size=64, shuffle=True, collate_fn=collate, num_workers=4, pin_memory=True)\n",
    "valid_loader = torch.utils.data.DataLoader(valid_data, batch_size=64, shuffle=True, collate_fn=collate, num_workers=4, pin_memory=True)\n",
    "\n",
    "device = torch.device('cuda')\n",
    "\n",
    "net = SpeechNet(device).to(device)\n",
    "net.apply(weight_init)\n",
    "\n",
    "\n",
    "criterion = nn.CTCLoss(blank=len(char2index), zero_infinity=True, reduction='none').to(device) \n",
    "optimizer = torch.optim.Adam(net.parameters())\n",
    "\n",
    "scheduler = ExponentialLR(optimizer, gamma=0.99999)\n",
    "clip_value = 400.0\n",
    "\n",
    "\n",
    "\n",
    "train_losses = []\n",
    "valid_losses = []\n",
    "for epoch in range(5):\n",
    "  print (f'Epoch {epoch}:')\n",
    "  for inp, inp_len, op, op_len in tqdm(train_loader):\n",
    "    \n",
    "    inp, inp_len = inp.float().to(device), inp_len.long().to(device)\n",
    "    op, op_len = op.long().to(device), op_len.long().to(device)\n",
    "\n",
    "    optimizer.zero_grad()\n",
    "    \n",
    "    p = net(inp)\n",
    "    \n",
    "    loss = criterion(p.transpose(0,1), op, inp_len, op_len)\n",
    "    # loss[loss == float(\"Inf\")] = 0\n",
    "    # print (loss.mean())\n",
    "    \n",
    "    loss = loss.mean()\n",
    "    train_losses.append(loss.item())\n",
    "    \n",
    "    if np.isnan(train_losses[-1]):\n",
    "        print ('NAN!')\n",
    "        raise 'loss is nan'\n",
    "    loss.backward()\n",
    "    torch.nn.utils.clip_grad_norm_(net.parameters(), clip_value)\n",
    "    \n",
    "    optimizer.step()\n",
    "    scheduler.step()\n",
    "  print ('train loss = ', np.mean(train_losses[::-1][:len(train_loader)]))\n",
    "\n",
    "  with torch.no_grad():\n",
    "    for inp, inp_len, op, op_len in tqdm(valid_loader):\n",
    "        \n",
    "        inp, inp_len = inp.float().to(device), inp_len.long().to(device)\n",
    "        op, op_len = op.long().to(device), op_len.long().to(device)\n",
    "        p = net(inp)\n",
    "        \n",
    "        loss = criterion(p.transpose(0,1), op, inp_len, op_len)\n",
    "        \n",
    "        loss = loss.mean()\n",
    "        valid_losses.append(loss.item())\n",
    "    print ('valid loss = ', np.mean(valid_losses[::-1][:len(valid_loader)]))"
   ]
  },
  {
   "cell_type": "code",
   "execution_count": 34,
   "metadata": {},
   "outputs": [
    {
     "data": {
      "image/png": "[encoded data removed]",
      "text/plain": [
       "<Figure size 720x360 with 1 Axes>"
      ]
     },
     "metadata": {
      "needs_background": "light"
     },
     "output_type": "display_data"
    }
   ],
   "source": [
    "import matplotlib.pyplot as plt\n",
    "%matplotlib inline\n",
    "\n",
    "plt.figure(figsize=(10,5))\n",
    "tableau20blind = [(0, 107, 164), (255, 128, 14), (171, 171, 171), (89, 89, 89),\n",
    "             (95, 158, 209), (200, 82, 0), (137, 137, 137), (163, 200, 236),\n",
    "             (255, 188, 121), (207, 207, 207)]\n",
    "for i in range(len(tableau20blind)):\n",
    "    r, g, b = tableau20blind[i]  \n",
    "    tableau20blind[i] = (r / 255., g / 255., b / 255.)\n",
    "\n",
    "\n",
    "tr = [np.mean(train_losses[start:start+len(train_loader)])  for start in range(0, len(train_losses), len(train_loader))]\n",
    "plt.plot(tr, color=tableau20blind[0])\n",
    "\n",
    "plt.xlim(0, len(tr))\n",
    "te = [np.mean(valid_losses[start:start+len(valid_loader)]) for start in range(0, len(valid_losses), len(valid_loader))]\n",
    "plt.plot(te, color=tableau20blind[1])\n",
    "\n",
    "plt.text( len(tr)-0.75,tr[-1]+1,   'Train loss', color=tableau20blind[0], fontsize=14)\n",
    "plt.text( len(te)-0.75,te[-1]-2, 'Test loss', color=tableau20blind[1], fontsize=14)\n",
    "\n",
    "plt.ylim(30, 90)\n",
    "\n",
    "plt.gca().spines['top'].set_visible(False)\n",
    "plt.gca().spines['right'].set_visible(False)\n",
    "plt.gca().spines['left'].set_visible(True)\n",
    "plt.gca().spines['bottom'].set_visible(True)\n",
    "plt.tight_layout(pad=5)\n",
    "plt.gca().tick_params(axis='both', length=0)"
   ]
  },
  {
   "cell_type": "code",
   "execution_count": 36,
   "metadata": {},
   "outputs": [
    {
     "data": {
      "image/png": "[encoded data removed]",
      "text/plain": [
       "<Figure size 720x360 with 1 Axes>"
      ]
     },
     "metadata": {
      "needs_background": "light"
     },
     "output_type": "display_data"
    }
   ],
   "source": [
    "import matplotlib.pyplot as plt\n",
    "%matplotlib inline\n",
    "\n",
    "plt.figure(figsize=(10,5))\n",
    "tableau20blind = [(0, 107, 164), (255, 128, 14), (171, 171, 171), (89, 89, 89),\n",
    "             (95, 158, 209), (200, 82, 0), (137, 137, 137), (163, 200, 236),\n",
    "             (255, 188, 121), (207, 207, 207)]\n",
    "for i in range(len(tableau20blind)):\n",
    "    r, g, b = tableau20blind[i]  \n",
    "    tableau20blind[i] = (r / 255., g / 255., b / 255.)\n",
    "\n",
    "\n",
    "tr = [np.mean(train_losses[start:start+len(train_loader)])  for start in range(0, len(train_losses), len(train_loader))]\n",
    "plt.plot(tr[:-1], color=tableau20blind[0])\n",
    "\n",
    "plt.xlim(0, len(tr))\n",
    "te = [np.mean(valid_losses[start:start+len(valid_loader)]) for start in range(0, len(valid_losses), len(valid_loader))]\n",
    "plt.plot(te, color=tableau20blind[1])\n",
    "\n",
    "plt.text( len(tr)-1.75,tr[-1]+1,   'Train loss', color=tableau20blind[0], fontsize=14)\n",
    "plt.text( len(te)-0.75,te[-1]-2, 'Test loss', color=tableau20blind[1], fontsize=14)\n",
    "\n",
    "plt.ylim(30, 90)\n",
    "\n",
    "plt.gca().spines['top'].set_visible(False)\n",
    "plt.gca().spines['right'].set_visible(False)\n",
    "plt.gca().spines['left'].set_visible(True)\n",
    "plt.gca().spines['bottom'].set_visible(True)\n",
    "plt.tight_layout(pad=5)\n",
    "plt.gca().tick_params(axis='both', length=0)"
   ]
  },
  {
   "cell_type": "code",
   "execution_count": null,
   "metadata": {},
   "outputs": [
    {
     "name": "stdout",
     "output_type": "stream",
     "text": [
      "Epoch 0:\n"
     ]
    },
    {
     "data": {
      "application/vnd.jupyter.widget-view+json": {
       "model_id": "67c13eb2fbe14c31b36392518f40bdd3",
       "version_major": 2,
       "version_minor": 0
      },
      "text/plain": [
       "HBox(children=(IntProgress(value=0, max=9765), HTML(value='')))"
      ]
     },
     "metadata": {},
     "output_type": "display_data"
    },
    {
     "name": "stdout",
     "output_type": "stream",
     "text": [
      "\n",
      "train loss =  62.7362318688396\n"
     ]
    },
    {
     "data": {
      "application/vnd.jupyter.widget-view+json": {
       "model_id": "def16edb150a463da60e0d025d18682b",
       "version_major": 2,
       "version_minor": 0
      },
      "text/plain": [
       "HBox(children=(IntProgress(value=0, max=2430), HTML(value='')))"
      ]
     },
     "metadata": {},
     "output_type": "display_data"
    },
    {
     "name": "stdout",
     "output_type": "stream",
     "text": [
      "\n",
      "valid loss =  61.66185897230611\n",
      "Epoch 1:\n"
     ]
    },
    {
     "data": {
      "application/vnd.jupyter.widget-view+json": {
       "model_id": "bf68bce73e5b416da2cdab40f520c08a",
       "version_major": 2,
       "version_minor": 0
      },
      "text/plain": [
       "HBox(children=(IntProgress(value=0, max=9765), HTML(value='')))"
      ]
     },
     "metadata": {},
     "output_type": "display_data"
    },
    {
     "name": "stdout",
     "output_type": "stream",
     "text": [
      "\n",
      "train loss =  61.469051133725685\n"
     ]
    },
    {
     "data": {
      "application/vnd.jupyter.widget-view+json": {
       "model_id": "907dfe4be5c44ad9879359d724496a7d",
       "version_major": 2,
       "version_minor": 0
      },
      "text/plain": [
       "HBox(children=(IntProgress(value=0, max=2430), HTML(value='')))"
      ]
     },
     "metadata": {},
     "output_type": "display_data"
    },
    {
     "name": "stdout",
     "output_type": "stream",
     "text": [
      "\n",
      "valid loss =  60.34870283809709\n",
      "Epoch 2:\n"
     ]
    },
    {
     "data": {
      "application/vnd.jupyter.widget-view+json": {
       "model_id": "6e85e8680b4b420f849425eaff88e77a",
       "version_major": 2,
       "version_minor": 0
      },
      "text/plain": [
       "HBox(children=(IntProgress(value=0, max=9765), HTML(value='')))"
      ]
     },
     "metadata": {},
     "output_type": "display_data"
    }
   ],
   "source": [
    "for epoch in range(5):\n",
    "  print (f'Epoch {epoch}:')\n",
    "  for inp, inp_len, op, op_len in tqdm(train_loader):\n",
    "    \n",
    "    inp, inp_len = inp.float().to(device), inp_len.long().to(device)\n",
    "    op, op_len = op.long().to(device), op_len.long().to(device)\n",
    "\n",
    "    optimizer.zero_grad()\n",
    "    \n",
    "    p = net(inp)\n",
    "    \n",
    "    loss = criterion(p.transpose(0,1), op, inp_len, op_len)\n",
    "    # loss[loss == float(\"Inf\")] = 0\n",
    "    # print (loss.mean())\n",
    "    \n",
    "    loss = loss.mean()\n",
    "    train_losses.append(loss.item())\n",
    "    \n",
    "    if np.isnan(train_losses[-1]):\n",
    "        print ('NAN!')\n",
    "        raise 'loss is nan'\n",
    "    loss.backward()\n",
    "    torch.nn.utils.clip_grad_norm_(net.parameters(), clip_value)\n",
    "    \n",
    "    optimizer.step()\n",
    "    scheduler.step()\n",
    "  print ('train loss = ', np.mean(train_losses[::-1][:len(train_loader)]))\n",
    "\n",
    "  with torch.no_grad():\n",
    "    for inp, inp_len, op, op_len in tqdm(valid_loader):\n",
    "        \n",
    "        inp, inp_len = inp.float().to(device), inp_len.long().to(device)\n",
    "        op, op_len = op.long().to(device), op_len.long().to(device)\n",
    "        p = net(inp)\n",
    "        \n",
    "        loss = criterion(p.transpose(0,1), op, inp_len, op_len)\n",
    "        \n",
    "        loss = loss.mean()\n",
    "        valid_losses.append(loss.item())\n",
    "    print ('valid loss = ', np.mean(valid_losses[::-1][:len(valid_loader)]))"
   ]
  },
  {
   "cell_type": "code",
   "execution_count": 32,
   "metadata": {},
   "outputs": [
    {
     "name": "stdout",
     "output_type": "stream",
     "text": [
      "<i know good crystal from bad and everything else there is to know about crystal>\n",
      "<he ce ba knod  cresa ton dad> an debetinols theiristo no e crsto>\n",
      "\n",
      "<from that day on the oasis would be an empty place for her>\n",
      "<from tat tio> he hoisiswil beanento placfe ho>\n",
      "\n",
      "<anything i can do back here>\n",
      "<inli ding ican do bacc ya>r\n",
      "\n",
      "<i don't want to>\n",
      "<i don't mont ti f>\n",
      "\n",
      "<vitriol has no place in this forum>\n",
      "<thi tre ol hasn no placein tis forom>\n",
      "\n",
      "<of course he's coming back here>\n",
      "<a corsis come fa hir>r   \n",
      "\n",
      "<could i please see you a minute>\n",
      "<gi cipse youo minitt>r\n",
      "\n",
      "<the night was warm and i was thirsty>\n",
      "<te na was wore no was tasthe> \n",
      "\n",
      "<the alchemist dismounted and told the escorts they could return to the camp>\n",
      "<the alcammestismnentod> and tod de casscos thi ca witchonto the cac>t\n",
      "\n",
      "<he shrugged his shoulders>\n",
      "<he srube hissol dhers>\n",
      "\n",
      "<even an ordinary man has more than one horse power but gets tired quickly>\n",
      "<even an now di noi man ter has mord anrond hosh taer> ut gitstaed grece>\n",
      "\n",
      "<curiosity killed the cat satisfaction brought it back>\n",
      "<easte to the cac> san ispaction groi takt\n",
      "\n",
      "<as a schoolboy he played competitive football rugby and cricket>\n",
      "<i es co wa e cla comce ce co gara ten cot>r\n",
      "\n",
      "<something happens here you'll have to remember later on>\n",
      "<some thing happensre the hateer memgr mater ran>\n",
      "\n",
      "<and yet none of these people has ever met the old king>\n",
      "<an ye a no of these beple is een ma the old cang>\n",
      "\n",
      "<hundreds must have seen it and taken it for a falling star>\n",
      "<howdr t masto sen art> and takan atoer formingsti>\n",
      "\n",
      "<but i didn't think that it contained any living creature>\n",
      "<a a a me sing thet itininyhiingcreca>\n",
      "\n",
      "<should i use keras or pytorch>\n",
      "<shed i ous caras or pitoct>\n",
      "\n",
      "<everyone seemed very excited>\n",
      "<avetr wan seme ws verixided>r \n",
      "\n",
      "<lend me the oldest tweed suit you've got>\n",
      "<then mede o de stresu yo got>\n",
      "\n",
      "<i like apples pears and pomegranate but i do like strawberries or grapes>\n",
      "<ili apels tas a pommengren> ban i dolistrovras olprits>\n",
      "\n",
      "<in those days very few of the people had any idea about astronomy>\n",
      "<ho mes thars rerinsio the beble hid eneity bosh trinaf>\n",
      "\n",
      "<when a fox hears a rabbit screaming it comes running but not to help>\n",
      "<whe na fols hes an rever s croning i toms ronin> bat noto hell>\n",
      "\n",
      "<this world in arms is not spending money alone>\n",
      "<this wal d an arsis das pening myny alon>\n",
      "\n",
      "<the guy thought he was a lunatic at large and made an unsuccessful attempt to stop him>\n",
      "<the gi fir you was loe tigot warg> and mae in andstoxeswalli tam> tho stippenm>\n",
      "\n",
      "<nor was elam harnish an exception>\n",
      "<nowas eallem hinisimexertion>\n",
      "\n",
      "<so then try he said to the englishman>\n",
      "<sie thand trime hesad ti ben ismyn>\n",
      "\n",
      "<secondly they purchased the rights of television talent show the x factor>\n",
      "<the youny bi po cens te ris otelnson tanso> this ite>\n",
      "\n",
      "<you're the only one who could have it>\n",
      "<youieowy wine h cal hait>\n",
      "\n",
      "<paperwork can be tedious and time-consuming>\n",
      "<inbeber wor camde tedeis an temcomseme>\n",
      "\n",
      "<i don't want to take any chances>\n",
      "<i dnon't wod to takginy chansos> r \n",
      "\n",
      "<i haven't seen her in ages and i hope she remembers me still>\n",
      "<e ha en see ani may to ins tni hantu men mars mens t in>r\n",
      "\n",
      "<i think jamie did it>\n",
      "<i ted chan bi the yet>\n",
      "\n",
      "<i with kevin would go with us>\n",
      "<i we gaebin> wurd goin tus>\n",
      "\n",
      "<the tonga plate is seismically very active and is rotating clockwise>\n",
      "<the to op plae> itsise tleveriactoe an isret eding clockise>\n",
      "\n",
      "<to do that successfully i must have no fear of failure>\n",
      "<hu thatsxasoly> mut have no ferof filyr>\n",
      "\n",
      "<this wasn't just a selfless act they wanted to become elected>\n",
      "<this was a usthesel fis ackt> thet wi at tobe comalic tin>\n",
      "\n",
      "<a bowl of rice is free with chicken stew>\n",
      "<a bol ofe mrisesfre with tecansto>\n",
      "\n",
      "<cars and busses stalled in snow drifts>\n",
      "<cars an busisetolod annsewdri>\n",
      "\n",
      "<however lorentz gave no physical explanation of this effect>\n",
      "<how woer the ren scave no t i acal explonmition of thes ifict>\n",
      "\n",
      "<nothing dries sooner than a tear>\n",
      "<noting jas sote then ise>r   \n",
      "\n",
      "<they were surrounded by children curious to look at the animals and people that were arriving>\n",
      "<hay was oroundi bichil ror> coistoleco e anmalsand peple the worvy pin>\n",
      "\n",
      "<a directed graph consists of nodes and edges>\n",
      "<i durt tid grat consiss o nowsinates>\n",
      "\n",
      "<i'm not talking hot air my friend>\n",
      "<an at ticking hatdere  me frind\n",
      "\n",
      "<we should be able to get some posts from the timber merchant>\n",
      "<we sholdn be a bo to gesom bostromte ting bermyrchont>\n",
      "\n",
      "<to find out the exact threshold we need to repeat this in a reproducible manner>\n",
      "<fi ot thetac ters o> wneds e hetes errytisbomat>\n",
      "\n",
      "<where have you been>\n",
      "<wheree yo ven \n",
      "\n",
      "<she got the congressional medal of honor>\n",
      "<she colte cogrision melofe anor>\n",
      "\n",
      "<the englishman asked if they were in danger>\n",
      "<the ing gwish men as if they werin dan jer>\n",
      "\n",
      "<can you imagine that>\n",
      "<tani imitin tat>\n",
      "\n",
      "<i'm not quite sure>\n",
      "<i not qlisor>r\n",
      "\n",
      "<after i had finished the first batch of papers i was getting into the workflow>\n",
      "<av trid finishte forspatcof papers has gatinin to the worfo>\n",
      "\n",
      "<she lives in the park>\n",
      "<she  its a ge par>\n",
      "\n",
      "<we don't know what's in the confounded thing do you >\n",
      "<we donn nowt wotson a tomsandin tame de e>r\n",
      "\n",
      "<the senate condemned the invasion of the empire's colonies>\n",
      "<the sune can demso be antation of bhe anplaras colinys>r\n",
      "\n",
      "<couldn't want a better life and death>\n",
      "<t in t wine t a bar mi sand ta>\n",
      "\n",
      "<the collection grew quickly and it soon became necessary to provide a building>\n",
      "<a ceciono orpiccly> aninsen decam esisheryt borpit iete>\n",
      "\n",
      "<i can't argue with you and you know that>\n",
      "<a can i e wih yo an ne ni li>\n",
      "\n",
      "<everywhere there were stalls with items for sale>\n",
      "<averyu wear ther worstals with ios for sal\n",
      "\n",
      "<and that he a boy could perform miracles>\n",
      "<in ther he o boy whet bat fonera ge>\n",
      "\n",
      "<the foreign minister appears to know little about the international situation>\n",
      "<he forn mansterpars no lonlel bot thin tanetionosegouwetion>\n",
      "\n",
      "<there wasn't room for one where she came from>\n",
      "<the was for mon ther shecin >r\n",
      "\n",
      "<i'm heading down to the sushi place you wanna get anything>\n",
      "<a adting dondo the setio plase> ou wan a getdiny tim>\n",
      "\n",
      "<rome was not built in a day>\n",
      "<rowis not te sit eda>rr\n",
      "\n"
     ]
    }
   ],
   "source": [
    "\n",
    "\n",
    "import itertools\n",
    "index2char = dict(zip(char2index.values(), char2index.keys()))\n",
    "with torch.no_grad():\n",
    "  for inp, inp_len, op, op_len in train_loader:\n",
    "      \n",
    "    inp, inp_len = inp.float().to(device), inp_len.long().to(device)\n",
    "    op, op_len = op.long().to(device), op_len.long().to(device)\n",
    "\n",
    "      \n",
    "\n",
    "    p = net(inp)\n",
    "    start = 0\n",
    "    for pi, o in zip(p, op_len):\n",
    "      \n",
    "      \n",
    "      print (''.join(index2char[i] for i in op[start:start+o].cpu().numpy()))\n",
    "      for i in (k for k, g in itertools.groupby(pi.argmax(1).cpu().numpy())):\n",
    "        \n",
    "        if i < len(index2char):\n",
    "          print (index2char[i], end = '')\n",
    "      print ('\\n')\n",
    "      start += o\n",
    "    break\n",
    "\n"
   ]
  }
 ],
 "metadata": {
  "kernelspec": {
   "display_name": "Python 3",
   "language": "python",
   "name": "python3"
  },
  "language_info": {
   "codemirror_mode": {
    "name": "ipython",
    "version": 3
   },
   "file_extension": ".py",
   "mimetype": "text/x-python",
   "name": "python",
   "nbconvert_exporter": "python",
   "pygments_lexer": "ipython3",
   "version": "3.7.4"
  }
 },
 "nbformat": 4,
 "nbformat_minor": 4
}
